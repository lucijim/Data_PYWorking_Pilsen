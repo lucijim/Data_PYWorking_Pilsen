{
 "cells": [
  {
   "cell_type": "markdown",
   "metadata": {},
   "source": [
    "# O malém hřišti na velké planetě\n",
    "###### aneb planetární fotbalová liga\n",
    "* Na Jupiteru se fotbal hraje s *golfovým míčkem* obyčejný míč by bylo totiž moc **těžký**\n",
    "* Nikdo by hřiště nepřekopl, protože gravitační zrychlení\n",
    "\n",
    "$$ g = \\kappa \\frac{Mm}{r^2},$$\n",
    "\n",
    "je na Jupyteru $2.4$-krát větší než na Zemi.\n",
    "\n",
    "Ke hře je potřeba\n",
    "\n",
    "1. 11 + 11 marťanů nebo pozemšťanů vybavených skafandry.\n",
    "2. Auty je třeba vrhat katapultem.\n",
    "3. Rozhodčím je sonda Voyager 2.\n",
    "4. Ta ovšem už opustila sluneční soustavu a tak písknutí následuje vždy až 6 hodin po zákroku."
   ]
  },
  {
   "cell_type": "markdown",
   "metadata": {},
   "source": [
    "$$ c = \\sqrt{a^2 + b^2}$$"
   ]
  },
  {
   "cell_type": "markdown",
   "metadata": {},
   "source": [
    "[To the github!](https://github.com/frenzymadness/Data_analysis_workshop)"
   ]
  },
  {
   "cell_type": "markdown",
   "metadata": {},
   "source": [
    "## Python je na Jupyteru jako doma:"
   ]
  },
  {
   "cell_type": "code",
   "execution_count": 1,
   "metadata": {},
   "outputs": [],
   "source": [
    "import sys"
   ]
  },
  {
   "cell_type": "code",
   "execution_count": 2,
   "metadata": {},
   "outputs": [
    {
     "data": {
      "text/plain": [
       "'/home/tomas/anaconda3/envs/pyworking1702/bin/python'"
      ]
     },
     "execution_count": 2,
     "metadata": {},
     "output_type": "execute_result"
    }
   ],
   "source": [
    "sys.executable"
   ]
  },
  {
   "cell_type": "code",
   "execution_count": 1,
   "metadata": {},
   "outputs": [],
   "source": [
    "g = 9.81 * 2.4"
   ]
  },
  {
   "cell_type": "code",
   "execution_count": 2,
   "metadata": {},
   "outputs": [
    {
     "name": "stdout",
     "output_type": "stream",
     "text": [
      "Fotbalový míč na Jupiteru váží 1.2 kg\n"
     ]
    }
   ],
   "source": [
    "print(\"Fotbalový míč na Jupiteru váží {} kg\".format(2.4 * .5))"
   ]
  },
  {
   "cell_type": "code",
   "execution_count": 18,
   "metadata": {},
   "outputs": [
    {
     "name": "stdout",
     "output_type": "stream",
     "text": [
      "Kdo? >45\n"
     ]
    }
   ],
   "source": [
    "kdo = input(\"Kdo? >\")"
   ]
  },
  {
   "cell_type": "code",
   "execution_count": 19,
   "metadata": {},
   "outputs": [],
   "source": [
    "import random"
   ]
  },
  {
   "cell_type": "code",
   "execution_count": 20,
   "metadata": {},
   "outputs": [
    {
     "data": {
      "text/plain": [
       "{'jméno': 'Rick', 'příjmení': 'Sanchez', 'číslo': 8, 'tým': 'FC Terra'}"
      ]
     },
     "execution_count": 20,
     "metadata": {},
     "output_type": "execute_result"
    }
   ],
   "source": [
    "random.choice(hráči)"
   ]
  },
  {
   "cell_type": "code",
   "execution_count": 4,
   "metadata": {},
   "outputs": [
    {
     "data": {
      "text/plain": [
       "'Tomáš'"
      ]
     },
     "execution_count": 4,
     "metadata": {},
     "output_type": "execute_result"
    }
   ],
   "source": [
    "kdo"
   ]
  },
  {
   "cell_type": "code",
   "execution_count": 25,
   "metadata": {},
   "outputs": [
    {
     "name": "stdout",
     "output_type": "stream",
     "text": [
      "Řekni něco> nic\n",
      "Rekni neco dalsiho nic dalsiho\n",
      "nic nic dalsiho\n"
     ]
    }
   ],
   "source": [
    "neco = input(\"Řekni něco> \")\n",
    "neco_dalsiho = input(\"Rekni neco dalsiho \")\n",
    "print(neco, neco_dalsiho)"
   ]
  },
  {
   "cell_type": "markdown",
   "metadata": {},
   "source": [
    "## Řetězení voláni a indexace\n",
    "Vyrobíme se trochu složitější datovou strukturu, abychom měli s čím pracovat."
   ]
  },
  {
   "cell_type": "code",
   "execution_count": 17,
   "metadata": {},
   "outputs": [],
   "source": [
    "hráči = [{\"jméno\": \"Robot\", \"příjmení\": \"Marvin\", \"číslo\": -42 , \"tým\": \"FC Cadia\"},\n",
    "         {\"jméno\": \"Leman\", \"příjmení\": \"Russ\", \"číslo\": 40001, \"tým\": \"FC Cadia\" },\n",
    "         {\"jméno\": \"Zafod\", \"příjmení\": \"Biblbrox\", \"číslo\": 42, \"tým\": \"FC Cadia\" },\n",
    "         {\"jméno\": \"Rick\", \"příjmení\": \"Sanchez\", \"číslo\": 8, \"tým\": \"FC Terra\"},\n",
    "         {\"jméno\": \"Morty\", \"příjmení\": \"Sanchez\", \"číslo\": 0, \"tým\": \"FC Terra\"}\n",
    "]"
   ]
  },
  {
   "cell_type": "code",
   "execution_count": 8,
   "metadata": {},
   "outputs": [],
   "source": [
    "hrac1 = hráči[1]"
   ]
  },
  {
   "cell_type": "code",
   "execution_count": 9,
   "metadata": {},
   "outputs": [
    {
     "data": {
      "text/plain": [
       "{'jméno': 'Leman', 'příjmení': 'Russ', 'číslo': 40001, 'tým': 'FC Cadia'}"
      ]
     },
     "execution_count": 9,
     "metadata": {},
     "output_type": "execute_result"
    }
   ],
   "source": [
    "hrac1"
   ]
  },
  {
   "cell_type": "code",
   "execution_count": 10,
   "metadata": {},
   "outputs": [
    {
     "data": {
      "text/plain": [
       "'Leman'"
      ]
     },
     "execution_count": 10,
     "metadata": {},
     "output_type": "execute_result"
    }
   ],
   "source": [
    "hrac1[\"jméno\"]"
   ]
  },
  {
   "cell_type": "code",
   "execution_count": 16,
   "metadata": {},
   "outputs": [
    {
     "data": {
      "text/plain": [
       "'l'"
      ]
     },
     "execution_count": 16,
     "metadata": {},
     "output_type": "execute_result"
    }
   ],
   "source": [
    "hráči[1][\"jméno\"].lower()[0]"
   ]
  },
  {
   "cell_type": "markdown",
   "metadata": {},
   "source": [
    "## Magic?"
   ]
  },
  {
   "cell_type": "code",
   "execution_count": 29,
   "metadata": {},
   "outputs": [
    {
     "data": {
      "text/plain": [
       "'/home/tomas/Python_projects/PyLadies/JuPa_PyWorking'"
      ]
     },
     "execution_count": 29,
     "metadata": {},
     "output_type": "execute_result"
    }
   ],
   "source": [
    "%pwd"
   ]
  },
  {
   "cell_type": "code",
   "execution_count": 30,
   "metadata": {},
   "outputs": [
    {
     "name": "stdout",
     "output_type": "stream",
     "text": [
      "/home/tomas/Python_projects/PyLadies\n"
     ]
    }
   ],
   "source": [
    "%cd .."
   ]
  },
  {
   "cell_type": "code",
   "execution_count": 31,
   "metadata": {},
   "outputs": [
    {
     "data": {
      "text/plain": [
       "'/home/tomas/Python_projects/PyLadies'"
      ]
     },
     "execution_count": 31,
     "metadata": {},
     "output_type": "execute_result"
    }
   ],
   "source": [
    "%pwd"
   ]
  },
  {
   "cell_type": "code",
   "execution_count": 32,
   "metadata": {},
   "outputs": [
    {
     "name": "stdout",
     "output_type": "stream",
     "text": [
      "/home/tomas/Python_projects/PyLadies/JuPa_PyWorking\n"
     ]
    }
   ],
   "source": [
    "%cd JuPa_PyWorking/"
   ]
  },
  {
   "cell_type": "code",
   "execution_count": 33,
   "metadata": {},
   "outputs": [
    {
     "name": "stdout",
     "output_type": "stream",
     "text": [
      " bq_analysis_B5-TCI-GP.ipynb   lb_napoje_kody.ipynb\r\n",
      " bq_analysis_GE-PD.ipynb       pegboard-analysis.ipynb\r\n",
      "'Hriste na Jupiteru.ipynb'     VR_movement_analysis.ipynb\r\n"
     ]
    }
   ],
   "source": [
    "%ls"
   ]
  },
  {
   "cell_type": "code",
   "execution_count": 34,
   "metadata": {},
   "outputs": [
    {
     "name": "stdout",
     "output_type": "stream",
     "text": [
      "total 2496\r\n",
      "-rw-rw-r-- 1 tomas tomas 728866 Dec 11 17:30  bq_analysis_B5-TCI-GP.ipynb\r\n",
      "-rw-rw-r-- 1 tomas tomas 942546 Jan 15 16:26  bq_analysis_GE-PD.ipynb\r\n",
      "-rw-rw-r-- 1 tomas tomas   5085 Feb  9 19:25 'Hriste na Jupiteru.ipynb'\r\n",
      "-rw-r--r-- 1 tomas tomas  34146 Dec 11 16:19  lb_napoje_kody.ipynb\r\n",
      "-rw-rw-r-- 1 tomas tomas 382210 Dec 11 17:33  pegboard-analysis.ipynb\r\n",
      "-rw-rw-r-- 1 tomas tomas 443068 Dec 11 17:34  VR_movement_analysis.ipynb\r\n"
     ]
    }
   ],
   "source": [
    "%ls -l"
   ]
  },
  {
   "cell_type": "code",
   "execution_count": 1,
   "metadata": {},
   "outputs": [
    {
     "name": "stdout",
     "output_type": "stream",
     "text": [
      "1_uvod.ipynb\t       cviceni.html    instalace.ipynb\t       static\r\n",
      "2_nacitani.ipynb       cviceni.ipynb   jupyter-notebook.html   work_examples\r\n",
      "3_lehka_analyza.ipynb  data\t       jupyter-notebook.ipynb\r\n",
      "4_vykreslovani.ipynb   instalace.html  sankey.py\r\n"
     ]
    }
   ],
   "source": [
    "!dir"
   ]
  },
  {
   "cell_type": "code",
   "execution_count": 3,
   "metadata": {},
   "outputs": [],
   "source": [
    "%magic"
   ]
  },
  {
   "cell_type": "code",
   "execution_count": null,
   "metadata": {},
   "outputs": [],
   "source": []
  }
 ],
 "metadata": {
  "kernelspec": {
   "display_name": "Python 3",
   "language": "python",
   "name": "python3"
  },
  "language_info": {
   "codemirror_mode": {
    "name": "ipython",
    "version": 3
   },
   "file_extension": ".py",
   "mimetype": "text/x-python",
   "name": "python",
   "nbconvert_exporter": "python",
   "pygments_lexer": "ipython3",
   "version": "3.7.2"
  }
 },
 "nbformat": 4,
 "nbformat_minor": 2
}
