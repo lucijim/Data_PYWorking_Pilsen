{
 "cells": [
  {
   "cell_type": "markdown",
   "metadata": {},
   "source": [
    "# Jupyter Notebook\n",
    "\n",
    "Jupyter Notebook je interaktivní prostředí, ve kterém může být pod sebou obyčejný text a spustitelný (Pythonní) kód. Text i kód je členěn do buněk, kód je v buňkách typu `code` text v buňkách typu `markdown`. Tohle je `markdown` buňka stejně jako několik následujicích, první `code` buňka je ta s `import sys`.\n",
    "\n",
    "V textových buňkách se dá používat všelijaké formatování a dokonce i LaTeX. Když dvakrát klikneš na buňky níže zobrazí se ti jejich \"zdrojový kód\". Příklady níže zahrnují několik způsobů formátování, které by ti mohli na lecco vystačit.\n",
    "\n",
    "Aby se opět zobrazil zformátovaný obsah buněk stačí stisknout `Shift + Enter` nebo `Crtl + Enter`, Shift tě posune na další buňku Crtl zůstane na té současné.\n",
    "\n",
    "Stejně se spouští Pythonní kód v buňce. Výstup se vypíše pod buňku a zůstane pod ní dokud ji znovu nespustíš nebo ho nevymažeš.\n",
    "\n",
    "Díky jejich povaze existuje i spousta způsobů jak notebooky sdílet a spouštět vzdáleně přes internet, například\n",
    "https://colab.research.google.com/notebooks/basic_features_overview.ipynb#scrollTo=d-S-3nYLQSHb\n",
    "nebo si můžete nastavit vlastní server.\n",
    "\n",
    "Github je taky umí zobrazovat."
   ]
  },
  {
   "cell_type": "markdown",
   "metadata": {},
   "source": [
    "# O malém hřišti na velké planetě\n",
    "###### aneb planetární fotbalová liga\n",
    "* Na Jupiteru se fotbal hraje s *golfovým míčkem* obyčejný míč by bylo totiž moc **těžký**\n",
    "* Nikdo by hřiště nepřekopl, protože gravitační zrychlení\n",
    "\n",
    "$$ g = \\kappa \\frac{Mm}{r^2},$$\n",
    "\n",
    "je na Jupyteru $2.4$-krát větší než na Zemi.\n",
    "\n",
    "Ke hře je potřeba\n",
    "\n",
    "1. 11 + 11 marťanů nebo pozemšťanů vybavených skafandry.\n",
    "2. Auty je třeba vrhat katapultem.\n",
    "3. Rozhodčím je sonda Voyager 2.\n",
    "4. Ta ovšem už opustila sluneční soustavu a tak písknutí následuje vždy až 6 hodin po zákroku."
   ]
  },
  {
   "cell_type": "markdown",
   "metadata": {},
   "source": [
    "$$ c = \\sqrt{a^2 + b^2}$$"
   ]
  },
  {
   "cell_type": "markdown",
   "metadata": {},
   "source": [
    "[To the github!](https://github.com/zitkat/Data_PYWorking_Pilsen)"
   ]
  },
  {
   "cell_type": "markdown",
   "metadata": {},
   "source": [
    "## Python je na Jupyteru jako doma:"
   ]
  },
  {
   "cell_type": "code",
   "execution_count": 4,
   "metadata": {},
   "outputs": [
    {
     "data": {
      "text/plain": [
       "'/home/tomas/anaconda3/bin/python'"
      ]
     },
     "execution_count": 4,
     "metadata": {},
     "output_type": "execute_result"
    }
   ],
   "source": [
    "# pro jistotu zkontrolujeme, jaký python používáme\n",
    "import sys\n",
    "sys.executable"
   ]
  },
  {
   "cell_type": "markdown",
   "metadata": {},
   "source": [
    "Jakmile je proměnná vytvořena je k dispozici ve všech buňkách -- všechny buňky mají společné prostředí."
   ]
  },
  {
   "cell_type": "code",
   "execution_count": 12,
   "metadata": {},
   "outputs": [],
   "source": [
    "g = 2.4"
   ]
  },
  {
   "cell_type": "code",
   "execution_count": 13,
   "metadata": {},
   "outputs": [
    {
     "name": "stdout",
     "output_type": "stream",
     "text": [
      "Fotbalový míč na Jupiteru váží 1.2 kg\n"
     ]
    }
   ],
   "source": [
    "print(\"Fotbalový míč na Jupiteru váží {} kg\".format(.5 * g))"
   ]
  },
  {
   "cell_type": "markdown",
   "metadata": {},
   "source": [
    "Funguje i starý známí input."
   ]
  },
  {
   "cell_type": "code",
   "execution_count": 5,
   "metadata": {},
   "outputs": [
    {
     "name": "stdout",
     "output_type": "stream",
     "text": [
      "Kdo? >Já\n"
     ]
    }
   ],
   "source": [
    "kdo = input(\"Kdo? >\")"
   ]
  },
  {
   "cell_type": "code",
   "execution_count": 6,
   "metadata": {},
   "outputs": [
    {
     "data": {
      "text/plain": [
       "'Já'"
      ]
     },
     "execution_count": 6,
     "metadata": {},
     "output_type": "execute_result"
    }
   ],
   "source": [
    "kdo"
   ]
  },
  {
   "cell_type": "code",
   "execution_count": 7,
   "metadata": {},
   "outputs": [
    {
     "name": "stdout",
     "output_type": "stream",
     "text": [
      "Řekni něco> Nic\n",
      "Rekni neco dalsiho Pořád nic\n",
      "Nic Pořád nic\n"
     ]
    }
   ],
   "source": [
    "neco = input(\"Řekni něco> \")\n",
    "neco_dalsiho = input(\"Rekni neco dalsiho \")\n",
    "print(neco, neco_dalsiho)"
   ]
  },
  {
   "cell_type": "markdown",
   "metadata": {},
   "source": [
    "## Řetězení voláni a indexace\n",
    "Vyrobíme si trochu složitější datovou strukturu, abychom měli s čím pracovat."
   ]
  },
  {
   "cell_type": "code",
   "execution_count": 8,
   "metadata": {},
   "outputs": [],
   "source": [
    "# Tohle je seznam slovníku.\n",
    "hraci = [{\"jméno\": \"Robot\", \"příjmení\": \"Marvin\", \"číslo\": -42 , \"tým\": \"FC Cadia\"},\n",
    "         {\"jméno\": \"Leman\", \"příjmení\": \"Russ\", \"číslo\": 40001, \"tým\": \"FC Cadia\" },\n",
    "         {\"jméno\": \"Zafod\", \"příjmení\": \"Biblbrox\", \"číslo\": 42, \"tým\": \"FC Cadia\" },\n",
    "         {\"jméno\": \"Rick\", \"příjmení\": \"Sanchez\", \"číslo\": 8, \"tým\": \"FC Terra\"},\n",
    "         {\"jméno\": \"Morty\", \"příjmení\": \"Sanchez\", \"číslo\": 0, \"tým\": \"FC Terra\"}\n",
    "]"
   ]
  },
  {
   "cell_type": "code",
   "execution_count": 9,
   "metadata": {},
   "outputs": [],
   "source": [
    "hrac1 = hraci[1]"
   ]
  },
  {
   "cell_type": "code",
   "execution_count": 10,
   "metadata": {},
   "outputs": [
    {
     "data": {
      "text/plain": [
       "{'jméno': 'Leman', 'příjmení': 'Russ', 'číslo': 40001, 'tým': 'FC Cadia'}"
      ]
     },
     "execution_count": 10,
     "metadata": {},
     "output_type": "execute_result"
    }
   ],
   "source": [
    "hrac1"
   ]
  },
  {
   "cell_type": "code",
   "execution_count": 11,
   "metadata": {},
   "outputs": [
    {
     "data": {
      "text/plain": [
       "'Leman'"
      ]
     },
     "execution_count": 11,
     "metadata": {},
     "output_type": "execute_result"
    }
   ],
   "source": [
    "hrac1[\"jméno\"]"
   ]
  },
  {
   "cell_type": "code",
   "execution_count": 12,
   "metadata": {},
   "outputs": [
    {
     "data": {
      "text/plain": [
       "'l'"
      ]
     },
     "execution_count": 12,
     "metadata": {},
     "output_type": "execute_result"
    }
   ],
   "source": [
    "hraci[1][\"jméno\"].lower()[0]"
   ]
  },
  {
   "cell_type": "markdown",
   "metadata": {},
   "source": [
    "## Magic\n",
    "Pomocí znaku `%` můžeme volat nejrůznější \"magické\" příkazy."
   ]
  },
  {
   "cell_type": "code",
   "execution_count": 4,
   "metadata": {},
   "outputs": [
    {
     "data": {
      "text/plain": [
       "'/home/tomas/Python_projects/PyLadies/Data_PyWorking_Pilsen/commented'"
      ]
     },
     "execution_count": 4,
     "metadata": {},
     "output_type": "execute_result"
    }
   ],
   "source": [
    "%pwd"
   ]
  },
  {
   "cell_type": "code",
   "execution_count": 5,
   "metadata": {},
   "outputs": [
    {
     "name": "stdout",
     "output_type": "stream",
     "text": [
      "/home/tomas/Python_projects/PyLadies/Data_PyWorking_Pilsen\n"
     ]
    }
   ],
   "source": [
    "%cd .."
   ]
  },
  {
   "cell_type": "code",
   "execution_count": 6,
   "metadata": {},
   "outputs": [
    {
     "data": {
      "text/plain": [
       "'/home/tomas/Python_projects/PyLadies/Data_PyWorking_Pilsen'"
      ]
     },
     "execution_count": 6,
     "metadata": {},
     "output_type": "execute_result"
    }
   ],
   "source": [
    "%pwd"
   ]
  },
  {
   "cell_type": "code",
   "execution_count": 8,
   "metadata": {},
   "outputs": [
    {
     "name": "stdout",
     "output_type": "stream",
     "text": [
      "1_uvod.ipynb           cviceni1.ipynb  instalace.ipynb         \u001b[0m\u001b[01;34mstatic\u001b[0m/\n",
      "2_nacitani.ipynb       cviceni.html    jupyter-notebook.html   \u001b[01;34mwork_examples\u001b[0m/\n",
      "3_lehka_analyza.ipynb  cviceni.ipynb   jupyter-notebook.ipynb\n",
      "4_vykreslovani.ipynb   \u001b[01;34mdata\u001b[0m/           README.md\n",
      "\u001b[01;34mcommented\u001b[0m/             instalace.html  sankey.py\n"
     ]
    }
   ],
   "source": [
    "%ls"
   ]
  },
  {
   "cell_type": "code",
   "execution_count": 9,
   "metadata": {},
   "outputs": [
    {
     "name": "stdout",
     "output_type": "stream",
     "text": [
      "total 1904\n",
      "-rw-rw-r-- 1 tomas tomas 138900 Aug 24 12:38 1_uvod.ipynb\n",
      "-rw-rw-r-- 1 tomas tomas 265124 Feb 17  2019 2_nacitani.ipynb\n",
      "-rw-rw-r-- 1 tomas tomas 243439 Feb 17  2019 3_lehka_analyza.ipynb\n",
      "-rw-rw-r-- 1 tomas tomas 377299 Feb 20  2019 4_vykreslovani.ipynb\n",
      "drwxrwxr-x 3 tomas tomas   4096 Dec 12 17:22 \u001b[0m\u001b[01;34mcommented\u001b[0m/\n",
      "-rw-rw-r-- 1 tomas tomas   4563 Feb 17  2019 cviceni1.ipynb\n",
      "-rw-rw-r-- 1 tomas tomas 276617 Feb 16  2019 cviceni.html\n",
      "-rw-rw-r-- 1 tomas tomas   3346 Feb 16  2019 cviceni.ipynb\n",
      "drwxrwxr-x 2 tomas tomas   4096 Feb 17  2019 \u001b[01;34mdata\u001b[0m/\n",
      "-rw-rw-r-- 1 tomas tomas 277507 Feb 16  2019 instalace.html\n",
      "-rw-rw-r-- 1 tomas tomas   4703 Feb 16  2019 instalace.ipynb\n",
      "-rw-rw-r-- 1 tomas tomas 284441 Feb 16  2019 jupyter-notebook.html\n",
      "-rw-rw-r-- 1 tomas tomas  11547 Feb 16  2019 jupyter-notebook.ipynb\n",
      "-rw-rw-r-- 1 tomas tomas    203 Aug 24 12:38 README.md\n",
      "-rw-rw-r-- 1 tomas tomas   6615 Feb 16  2019 sankey.py\n",
      "drwxrwxr-x 2 tomas tomas   4096 Jan 14  2019 \u001b[01;34mstatic\u001b[0m/\n",
      "drwxrwxr-x 3 tomas tomas   4096 Feb 16  2019 \u001b[01;34mwork_examples\u001b[0m/\n"
     ]
    }
   ],
   "source": [
    "%ls -l"
   ]
  },
  {
   "cell_type": "markdown",
   "metadata": {},
   "source": [
    "Pomocí `!` a `!!` můžeme používat příkazy jako v příkazové řádce. \n",
    "Jejich výstup lze uložit do proměnné."
   ]
  },
  {
   "cell_type": "code",
   "execution_count": 38,
   "metadata": {},
   "outputs": [
    {
     "data": {
      "text/plain": [
       "['1_uvod-commented.ipynb',\n",
       " '2_nacitani-commented.ipynb',\n",
       " '3_lehka_analyza-commented.ipynb',\n",
       " '4_vykreslovani-commented.ipynb']"
      ]
     },
     "execution_count": 38,
     "metadata": {},
     "output_type": "execute_result"
    }
   ],
   "source": [
    "files = !ls\n",
    "files"
   ]
  },
  {
   "cell_type": "markdown",
   "metadata": {},
   "source": [
    "Nebo třeba (na Linuxu)"
   ]
  },
  {
   "cell_type": "code",
   "execution_count": 41,
   "metadata": {},
   "outputs": [
    {
     "data": {
      "text/plain": [
       "['Filesystem                1K-blocks      Used Available Use% Mounted on',\n",
       " 'udev                        6064020         0   6064020   0% /dev',\n",
       " 'tmpfs                       1219412      1476   1217936   1% /run',\n",
       " '/dev/mapper/mint--vg-root 232261744 150266200  70127592  69% /',\n",
       " 'tmpfs                       6097056    329816   5767240   6% /dev/shm',\n",
       " 'tmpfs                          5120         4      5116   1% /run/lock',\n",
       " 'tmpfs                       6097056         0   6097056   0% /sys/fs/cgroup',\n",
       " '/dev/loop0                    55936     55936         0 100% /snap/core18/1265',\n",
       " '/dev/sda1                    523248      6232    517016   2% /boot/efi',\n",
       " 'tmpfs                       1219408        76   1219332   1% /run/user/1000',\n",
       " '/dev/loop4                    55936     55936         0 100% /snap/core18/1279',\n",
       " '/dev/loop2                    91264     91264         0 100% /snap/core/8213',\n",
       " '/dev/loop3                    91264     91264         0 100% /snap/core/8268']"
      ]
     },
     "execution_count": 41,
     "metadata": {},
     "output_type": "execute_result"
    }
   ],
   "source": [
    "!!df"
   ]
  },
  {
   "cell_type": "markdown",
   "metadata": {},
   "source": [
    "Nápovědu získáme snadno."
   ]
  },
  {
   "cell_type": "code",
   "execution_count": 29,
   "metadata": {},
   "outputs": [],
   "source": [
    "%magic"
   ]
  },
  {
   "cell_type": "code",
   "execution_count": 42,
   "metadata": {},
   "outputs": [
    {
     "data": {
      "application/json": {
       "cell": {
        "!": "OSMagics",
        "HTML": "Other",
        "SVG": "Other",
        "bash": "Other",
        "capture": "ExecutionMagics",
        "debug": "ExecutionMagics",
        "file": "Other",
        "html": "DisplayMagics",
        "javascript": "DisplayMagics",
        "js": "DisplayMagics",
        "latex": "DisplayMagics",
        "markdown": "DisplayMagics",
        "perl": "Other",
        "prun": "ExecutionMagics",
        "pypy": "Other",
        "python": "Other",
        "python2": "Other",
        "python3": "Other",
        "ruby": "Other",
        "script": "ScriptMagics",
        "sh": "Other",
        "svg": "DisplayMagics",
        "sx": "OSMagics",
        "system": "OSMagics",
        "time": "ExecutionMagics",
        "timeit": "ExecutionMagics",
        "writefile": "OSMagics"
       },
       "line": {
        "alias": "OSMagics",
        "alias_magic": "BasicMagics",
        "autoawait": "AsyncMagics",
        "autocall": "AutoMagics",
        "automagic": "AutoMagics",
        "autosave": "KernelMagics",
        "bookmark": "OSMagics",
        "cat": "Other",
        "cd": "OSMagics",
        "clear": "KernelMagics",
        "colors": "BasicMagics",
        "config": "ConfigMagics",
        "connect_info": "KernelMagics",
        "cp": "Other",
        "debug": "ExecutionMagics",
        "dhist": "OSMagics",
        "dirs": "OSMagics",
        "doctest_mode": "BasicMagics",
        "ed": "Other",
        "edit": "KernelMagics",
        "env": "OSMagics",
        "gui": "BasicMagics",
        "hist": "Other",
        "history": "HistoryMagics",
        "killbgscripts": "ScriptMagics",
        "ldir": "Other",
        "less": "KernelMagics",
        "lf": "Other",
        "lk": "Other",
        "ll": "Other",
        "load": "CodeMagics",
        "load_ext": "ExtensionMagics",
        "loadpy": "CodeMagics",
        "logoff": "LoggingMagics",
        "logon": "LoggingMagics",
        "logstart": "LoggingMagics",
        "logstate": "LoggingMagics",
        "logstop": "LoggingMagics",
        "ls": "Other",
        "lsmagic": "BasicMagics",
        "lx": "Other",
        "macro": "ExecutionMagics",
        "magic": "BasicMagics",
        "man": "KernelMagics",
        "matplotlib": "PylabMagics",
        "mkdir": "Other",
        "more": "KernelMagics",
        "mv": "Other",
        "notebook": "BasicMagics",
        "page": "BasicMagics",
        "pastebin": "CodeMagics",
        "pdb": "ExecutionMagics",
        "pdef": "NamespaceMagics",
        "pdoc": "NamespaceMagics",
        "pfile": "NamespaceMagics",
        "pinfo": "NamespaceMagics",
        "pinfo2": "NamespaceMagics",
        "pip": "BasicMagics",
        "popd": "OSMagics",
        "pprint": "BasicMagics",
        "precision": "BasicMagics",
        "prun": "ExecutionMagics",
        "psearch": "NamespaceMagics",
        "psource": "NamespaceMagics",
        "pushd": "OSMagics",
        "pwd": "OSMagics",
        "pycat": "OSMagics",
        "pylab": "PylabMagics",
        "qtconsole": "KernelMagics",
        "quickref": "BasicMagics",
        "recall": "HistoryMagics",
        "rehashx": "OSMagics",
        "reload_ext": "ExtensionMagics",
        "rep": "Other",
        "rerun": "HistoryMagics",
        "reset": "NamespaceMagics",
        "reset_selective": "NamespaceMagics",
        "rm": "Other",
        "rmdir": "Other",
        "run": "ExecutionMagics",
        "save": "CodeMagics",
        "sc": "OSMagics",
        "set_env": "OSMagics",
        "store": "StoreMagics",
        "sx": "OSMagics",
        "system": "OSMagics",
        "tb": "ExecutionMagics",
        "time": "ExecutionMagics",
        "timeit": "ExecutionMagics",
        "unalias": "OSMagics",
        "unload_ext": "ExtensionMagics",
        "who": "NamespaceMagics",
        "who_ls": "NamespaceMagics",
        "whos": "NamespaceMagics",
        "xdel": "NamespaceMagics",
        "xmode": "BasicMagics"
       }
      },
      "text/plain": [
       "Available line magics:\n",
       "%alias  %alias_magic  %autoawait  %autocall  %automagic  %autosave  %bookmark  %cat  %cd  %clear  %colors  %config  %connect_info  %cp  %debug  %dhist  %dirs  %doctest_mode  %ed  %edit  %env  %gui  %hist  %history  %killbgscripts  %ldir  %less  %lf  %lk  %ll  %load  %load_ext  %loadpy  %logoff  %logon  %logstart  %logstate  %logstop  %ls  %lsmagic  %lx  %macro  %magic  %man  %matplotlib  %mkdir  %more  %mv  %notebook  %page  %pastebin  %pdb  %pdef  %pdoc  %pfile  %pinfo  %pinfo2  %popd  %pprint  %precision  %prun  %psearch  %psource  %pushd  %pwd  %pycat  %pylab  %qtconsole  %quickref  %recall  %rehashx  %reload_ext  %rep  %rerun  %reset  %reset_selective  %rm  %rmdir  %run  %save  %sc  %set_env  %store  %sx  %system  %tb  %time  %timeit  %unalias  %unload_ext  %who  %who_ls  %whos  %xdel  %xmode\n",
       "\n",
       "Available cell magics:\n",
       "%%!  %%HTML  %%SVG  %%bash  %%capture  %%debug  %%file  %%html  %%javascript  %%js  %%latex  %%markdown  %%perl  %%prun  %%pypy  %%python  %%python2  %%python3  %%ruby  %%script  %%sh  %%svg  %%sx  %%system  %%time  %%timeit  %%writefile\n",
       "\n",
       "Automagic is ON, % prefix IS NOT needed for line magics."
      ]
     },
     "execution_count": 42,
     "metadata": {},
     "output_type": "execute_result"
    }
   ],
   "source": [
    "# všechny možné magické příkazy\n",
    "%lsmagic"
   ]
  },
  {
   "cell_type": "code",
   "execution_count": null,
   "metadata": {},
   "outputs": [],
   "source": []
  }
 ],
 "metadata": {
  "kernelspec": {
   "display_name": "Python 3",
   "language": "python",
   "name": "python3"
  },
  "language_info": {
   "codemirror_mode": {
    "name": "ipython",
    "version": 3
   },
   "file_extension": ".py",
   "mimetype": "text/x-python",
   "name": "python",
   "nbconvert_exporter": "python",
   "pygments_lexer": "ipython3",
   "version": "3.7.2"
  }
 },
 "nbformat": 4,
 "nbformat_minor": 2
}
