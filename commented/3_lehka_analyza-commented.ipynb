{
 "cells": [
  {
   "cell_type": "markdown",
   "metadata": {},
   "source": [
    "# Lehká analýza"
   ]
  },
  {
   "cell_type": "markdown",
   "metadata": {},
   "source": [
    "1. Celkový pohled na data \n",
    "2. Základní statistiky: min, max, mean, median, standard deviation, korelace atd.\n",
    "3.  Groupby\n",
    "4. Statistické testy: test normality, párové testy\n",
    "5. Lineární regrese"
   ]
  },
  {
   "cell_type": "code",
   "execution_count": 3,
   "metadata": {},
   "outputs": [],
   "source": [
    "import pandas as pd"
   ]
  },
  {
   "cell_type": "code",
   "execution_count": 4,
   "metadata": {},
   "outputs": [],
   "source": [
    "pokemon_df = pd.read_csv(\"../data/Pokemon.csv\", index_col=\"id\")"
   ]
  },
  {
   "cell_type": "markdown",
   "metadata": {},
   "source": [
    "## Základní údaje o datech"
   ]
  },
  {
   "cell_type": "markdown",
   "metadata": {},
   "source": [
    "Počet řádků a sloupců"
   ]
  },
  {
   "cell_type": "code",
   "execution_count": 5,
   "metadata": {},
   "outputs": [
    {
     "data": {
      "text/plain": [
       "(807, 20)"
      ]
     },
     "execution_count": 5,
     "metadata": {},
     "output_type": "execute_result"
    }
   ],
   "source": [
    "pokemon_df.shape"
   ]
  },
  {
   "cell_type": "markdown",
   "metadata": {},
   "source": [
    "Přehled o platných a neplatných hodnotách a datových typech."
   ]
  },
  {
   "cell_type": "code",
   "execution_count": 6,
   "metadata": {},
   "outputs": [
    {
     "name": "stdout",
     "output_type": "stream",
     "text": [
      "<class 'pandas.core.frame.DataFrame'>\n",
      "Int64Index: 807 entries, 1 to 807\n",
      "Data columns (total 20 columns):\n",
      "name                      807 non-null object\n",
      "height                    807 non-null float64\n",
      "weight                    807 non-null float64\n",
      "color                     807 non-null object\n",
      "shape                     807 non-null object\n",
      "is baby                   807 non-null bool\n",
      "type 1                    807 non-null object\n",
      "type 2                    405 non-null object\n",
      "hp                        807 non-null int64\n",
      "attack                    807 non-null int64\n",
      "defense                   807 non-null int64\n",
      "sp. attack                807 non-null int64\n",
      "sp. defense               807 non-null int64\n",
      "speed                     807 non-null int64\n",
      "total                     807 non-null int64\n",
      "generation                807 non-null int64\n",
      "evolves from              387 non-null float64\n",
      "evolution group           807 non-null int64\n",
      "fm gender ratio           807 non-null object\n",
      "has_gender_differences    807 non-null int64\n",
      "dtypes: bool(1), float64(3), int64(10), object(6)\n",
      "memory usage: 126.9+ KB\n"
     ]
    }
   ],
   "source": [
    "pokemon_df.info()"
   ]
  },
  {
   "cell_type": "markdown",
   "metadata": {},
   "source": [
    "Pomocí metody `count` lze získat stejné údaje jako výše, ale ve strojově přívětivějším formátu."
   ]
  },
  {
   "cell_type": "code",
   "execution_count": 7,
   "metadata": {
    "scrolled": true
   },
   "outputs": [
    {
     "data": {
      "text/plain": [
       "name                      807\n",
       "height                    807\n",
       "weight                    807\n",
       "color                     807\n",
       "shape                     807\n",
       "is baby                   807\n",
       "type 1                    807\n",
       "type 2                    405\n",
       "hp                        807\n",
       "attack                    807\n",
       "defense                   807\n",
       "sp. attack                807\n",
       "sp. defense               807\n",
       "speed                     807\n",
       "total                     807\n",
       "generation                807\n",
       "evolves from              387\n",
       "evolution group           807\n",
       "fm gender ratio           807\n",
       "has_gender_differences    807\n",
       "dtype: int64"
      ]
     },
     "execution_count": 7,
     "metadata": {},
     "output_type": "execute_result"
    }
   ],
   "source": [
    "pokemon_df.count()"
   ]
  },
  {
   "cell_type": "markdown",
   "metadata": {},
   "source": [
    "## A teď už nějaká statistika"
   ]
  },
  {
   "cell_type": "markdown",
   "metadata": {},
   "source": [
    "Metoda `describe` vypíše základní statistické ukazatele: počet, průměr, standardní odchylku, minimum, maximum a kvantily. Výsedek je opět DataFrame, takže na něj můžeme použít vše, co umíme."
   ]
  },
  {
   "cell_type": "code",
   "execution_count": 8,
   "metadata": {},
   "outputs": [
    {
     "data": {
      "text/html": [
       "<div>\n",
       "<style scoped>\n",
       "    .dataframe tbody tr th:only-of-type {\n",
       "        vertical-align: middle;\n",
       "    }\n",
       "\n",
       "    .dataframe tbody tr th {\n",
       "        vertical-align: top;\n",
       "    }\n",
       "\n",
       "    .dataframe thead th {\n",
       "        text-align: right;\n",
       "    }\n",
       "</style>\n",
       "<table border=\"1\" class=\"dataframe\">\n",
       "  <thead>\n",
       "    <tr style=\"text-align: right;\">\n",
       "      <th></th>\n",
       "      <th>id</th>\n",
       "      <th>height</th>\n",
       "      <th>weight</th>\n",
       "      <th>hp</th>\n",
       "      <th>attack</th>\n",
       "      <th>defense</th>\n",
       "      <th>sp. attack</th>\n",
       "      <th>sp. defense</th>\n",
       "      <th>speed</th>\n",
       "      <th>total</th>\n",
       "      <th>generation</th>\n",
       "      <th>evolves from</th>\n",
       "      <th>evolution group</th>\n",
       "      <th>has_gender_differences</th>\n",
       "    </tr>\n",
       "  </thead>\n",
       "  <tbody>\n",
       "    <tr>\n",
       "      <th>count</th>\n",
       "      <td>807.000000</td>\n",
       "      <td>807.000000</td>\n",
       "      <td>807.000000</td>\n",
       "      <td>807.000000</td>\n",
       "      <td>807.000000</td>\n",
       "      <td>807.000000</td>\n",
       "      <td>807.000000</td>\n",
       "      <td>807.000000</td>\n",
       "      <td>807.000000</td>\n",
       "      <td>807.000000</td>\n",
       "      <td>807.000000</td>\n",
       "      <td>387.000000</td>\n",
       "      <td>807.000000</td>\n",
       "      <td>807.000000</td>\n",
       "    </tr>\n",
       "    <tr>\n",
       "      <th>mean</th>\n",
       "      <td>404.000000</td>\n",
       "      <td>1.162454</td>\n",
       "      <td>61.771128</td>\n",
       "      <td>68.748451</td>\n",
       "      <td>76.086741</td>\n",
       "      <td>71.726146</td>\n",
       "      <td>69.486989</td>\n",
       "      <td>70.013631</td>\n",
       "      <td>65.830235</td>\n",
       "      <td>421.892193</td>\n",
       "      <td>3.714994</td>\n",
       "      <td>368.457364</td>\n",
       "      <td>199.174721</td>\n",
       "      <td>0.121437</td>\n",
       "    </tr>\n",
       "    <tr>\n",
       "      <th>std</th>\n",
       "      <td>233.105126</td>\n",
       "      <td>1.081030</td>\n",
       "      <td>111.519355</td>\n",
       "      <td>26.032808</td>\n",
       "      <td>29.544598</td>\n",
       "      <td>29.730228</td>\n",
       "      <td>29.439715</td>\n",
       "      <td>27.292344</td>\n",
       "      <td>27.736838</td>\n",
       "      <td>111.038051</td>\n",
       "      <td>1.944148</td>\n",
       "      <td>233.367619</td>\n",
       "      <td>125.005530</td>\n",
       "      <td>0.326837</td>\n",
       "    </tr>\n",
       "    <tr>\n",
       "      <th>min</th>\n",
       "      <td>1.000000</td>\n",
       "      <td>0.100000</td>\n",
       "      <td>0.100000</td>\n",
       "      <td>1.000000</td>\n",
       "      <td>5.000000</td>\n",
       "      <td>5.000000</td>\n",
       "      <td>10.000000</td>\n",
       "      <td>20.000000</td>\n",
       "      <td>5.000000</td>\n",
       "      <td>175.000000</td>\n",
       "      <td>1.000000</td>\n",
       "      <td>1.000000</td>\n",
       "      <td>1.000000</td>\n",
       "      <td>0.000000</td>\n",
       "    </tr>\n",
       "    <tr>\n",
       "      <th>25%</th>\n",
       "      <td>202.500000</td>\n",
       "      <td>0.600000</td>\n",
       "      <td>9.000000</td>\n",
       "      <td>50.000000</td>\n",
       "      <td>55.000000</td>\n",
       "      <td>50.000000</td>\n",
       "      <td>45.000000</td>\n",
       "      <td>50.000000</td>\n",
       "      <td>45.000000</td>\n",
       "      <td>321.500000</td>\n",
       "      <td>2.000000</td>\n",
       "      <td>158.500000</td>\n",
       "      <td>86.500000</td>\n",
       "      <td>0.000000</td>\n",
       "    </tr>\n",
       "    <tr>\n",
       "      <th>50%</th>\n",
       "      <td>404.000000</td>\n",
       "      <td>1.000000</td>\n",
       "      <td>27.000000</td>\n",
       "      <td>65.000000</td>\n",
       "      <td>75.000000</td>\n",
       "      <td>67.000000</td>\n",
       "      <td>65.000000</td>\n",
       "      <td>65.000000</td>\n",
       "      <td>65.000000</td>\n",
       "      <td>431.000000</td>\n",
       "      <td>4.000000</td>\n",
       "      <td>353.000000</td>\n",
       "      <td>192.000000</td>\n",
       "      <td>0.000000</td>\n",
       "    </tr>\n",
       "    <tr>\n",
       "      <th>75%</th>\n",
       "      <td>605.500000</td>\n",
       "      <td>1.500000</td>\n",
       "      <td>63.000000</td>\n",
       "      <td>80.000000</td>\n",
       "      <td>95.000000</td>\n",
       "      <td>89.000000</td>\n",
       "      <td>90.000000</td>\n",
       "      <td>85.000000</td>\n",
       "      <td>85.000000</td>\n",
       "      <td>500.000000</td>\n",
       "      <td>5.000000</td>\n",
       "      <td>574.500000</td>\n",
       "      <td>306.500000</td>\n",
       "      <td>0.000000</td>\n",
       "    </tr>\n",
       "    <tr>\n",
       "      <th>max</th>\n",
       "      <td>807.000000</td>\n",
       "      <td>14.500000</td>\n",
       "      <td>999.900000</td>\n",
       "      <td>255.000000</td>\n",
       "      <td>181.000000</td>\n",
       "      <td>230.000000</td>\n",
       "      <td>173.000000</td>\n",
       "      <td>230.000000</td>\n",
       "      <td>160.000000</td>\n",
       "      <td>720.000000</td>\n",
       "      <td>7.000000</td>\n",
       "      <td>803.000000</td>\n",
       "      <td>427.000000</td>\n",
       "      <td>1.000000</td>\n",
       "    </tr>\n",
       "  </tbody>\n",
       "</table>\n",
       "</div>"
      ],
      "text/plain": [
       "               id      height      weight          hp      attack     defense  \\\n",
       "count  807.000000  807.000000  807.000000  807.000000  807.000000  807.000000   \n",
       "mean   404.000000    1.162454   61.771128   68.748451   76.086741   71.726146   \n",
       "std    233.105126    1.081030  111.519355   26.032808   29.544598   29.730228   \n",
       "min      1.000000    0.100000    0.100000    1.000000    5.000000    5.000000   \n",
       "25%    202.500000    0.600000    9.000000   50.000000   55.000000   50.000000   \n",
       "50%    404.000000    1.000000   27.000000   65.000000   75.000000   67.000000   \n",
       "75%    605.500000    1.500000   63.000000   80.000000   95.000000   89.000000   \n",
       "max    807.000000   14.500000  999.900000  255.000000  181.000000  230.000000   \n",
       "\n",
       "       sp. attack  sp. defense       speed       total  generation  \\\n",
       "count  807.000000   807.000000  807.000000  807.000000  807.000000   \n",
       "mean    69.486989    70.013631   65.830235  421.892193    3.714994   \n",
       "std     29.439715    27.292344   27.736838  111.038051    1.944148   \n",
       "min     10.000000    20.000000    5.000000  175.000000    1.000000   \n",
       "25%     45.000000    50.000000   45.000000  321.500000    2.000000   \n",
       "50%     65.000000    65.000000   65.000000  431.000000    4.000000   \n",
       "75%     90.000000    85.000000   85.000000  500.000000    5.000000   \n",
       "max    173.000000   230.000000  160.000000  720.000000    7.000000   \n",
       "\n",
       "       evolves from  evolution group  has_gender_differences  \n",
       "count    387.000000       807.000000              807.000000  \n",
       "mean     368.457364       199.174721                0.121437  \n",
       "std      233.367619       125.005530                0.326837  \n",
       "min        1.000000         1.000000                0.000000  \n",
       "25%      158.500000        86.500000                0.000000  \n",
       "50%      353.000000       192.000000                0.000000  \n",
       "75%      574.500000       306.500000                0.000000  \n",
       "max      803.000000       427.000000                1.000000  "
      ]
     },
     "execution_count": 8,
     "metadata": {},
     "output_type": "execute_result"
    }
   ],
   "source": [
    "pokemon_df.describe() #.loc[\"min\" : \"max\"]"
   ]
  },
  {
   "cell_type": "markdown",
   "metadata": {},
   "source": [
    "Jednotlivé hodnoty můžeme zjistit i přímo, buď pro všechny sloupce najednou."
   ]
  },
  {
   "cell_type": "code",
   "execution_count": 9,
   "metadata": {},
   "outputs": [
    {
     "data": {
      "text/plain": [
       "id                            807\n",
       "name                      zygarde\n",
       "height                       14.5\n",
       "weight                      999.9\n",
       "color                      yellow\n",
       "shape                       wings\n",
       "is baby                      True\n",
       "type 1                      Water\n",
       "hp                            255\n",
       "attack                        181\n",
       "defense                       230\n",
       "sp. attack                    173\n",
       "sp. defense                   230\n",
       "speed                         160\n",
       "total                         720\n",
       "generation                      7\n",
       "evolves from                  803\n",
       "evolution group               427\n",
       "fm gender ratio               7:1\n",
       "has_gender_differences          1\n",
       "dtype: object"
      ]
     },
     "execution_count": 9,
     "metadata": {},
     "output_type": "execute_result"
    }
   ],
   "source": [
    "pokemon_df.max()"
   ]
  },
  {
   "cell_type": "markdown",
   "metadata": {},
   "source": [
    "Nebo pro každý zvlášť, pomocí indexování."
   ]
  },
  {
   "cell_type": "code",
   "execution_count": 10,
   "metadata": {},
   "outputs": [
    {
     "data": {
      "text/plain": [
       "999.9"
      ]
     },
     "execution_count": 10,
     "metadata": {},
     "output_type": "execute_result"
    }
   ],
   "source": [
    "pokemon_df[\"weight\"].max()"
   ]
  },
  {
   "cell_type": "code",
   "execution_count": 11,
   "metadata": {},
   "outputs": [
    {
     "data": {
      "text/plain": [
       "61.771127633209396"
      ]
     },
     "execution_count": 11,
     "metadata": {},
     "output_type": "execute_result"
    }
   ],
   "source": [
    "pokemon_df[\"weight\"].mean()"
   ]
  },
  {
   "cell_type": "code",
   "execution_count": 12,
   "metadata": {},
   "outputs": [
    {
     "data": {
      "text/plain": [
       "27.0"
      ]
     },
     "execution_count": 12,
     "metadata": {},
     "output_type": "execute_result"
    }
   ],
   "source": [
    "pokemon_df[\"weight\"].median()\n",
    "# medián je 50% kvantil"
   ]
  },
  {
   "cell_type": "code",
   "execution_count": 13,
   "metadata": {},
   "outputs": [
    {
     "data": {
      "text/plain": [
       "0    5.0\n",
       "dtype: float64"
      ]
     },
     "execution_count": 13,
     "metadata": {},
     "output_type": "execute_result"
    }
   ],
   "source": [
    "pokemon_df[\"weight\"].mode()\n",
    "# mode, česky modus je hodnota s nepočetnějším výskytem "
   ]
  },
  {
   "cell_type": "markdown",
   "metadata": {},
   "source": [
    "Pokud chceme vědět, který pokemon je nejtěžší použijeme `idmax`."
   ]
  },
  {
   "cell_type": "code",
   "execution_count": 14,
   "metadata": {},
   "outputs": [
    {
     "name": "stdout",
     "output_type": "stream",
     "text": [
      "789\n"
     ]
    },
    {
     "data": {
      "text/plain": [
       "id                            790\n",
       "name                      cosmoem\n",
       "height                        0.1\n",
       "weight                      999.9\n",
       "color                        blue\n",
       "shape                        ball\n",
       "is baby                     False\n",
       "type 1                    Psychic\n",
       "type 2                        NaN\n",
       "hp                             43\n",
       "attack                         29\n",
       "defense                       131\n",
       "sp. attack                     29\n",
       "sp. defense                   131\n",
       "speed                          37\n",
       "total                         400\n",
       "generation                      7\n",
       "evolves from                  789\n",
       "evolution group               413\n",
       "fm gender ratio               0:0\n",
       "has_gender_differences          0\n",
       "Name: 789, dtype: object"
      ]
     },
     "execution_count": 14,
     "metadata": {},
     "output_type": "execute_result"
    }
   ],
   "source": [
    "print(pokemon_df[\"weight\"].idxmax())\n",
    "pokemon_df.iloc[pokemon_df[\"weight\"].idxmax()]"
   ]
  },
  {
   "cell_type": "markdown",
   "metadata": {},
   "source": [
    "Nebo můžeme dataframe seřadit podle váhy a kouknout se na prvního pokemona."
   ]
  },
  {
   "cell_type": "code",
   "execution_count": 8,
   "metadata": {
    "collapsed": true
   },
   "outputs": [
    {
     "data": {
      "text/html": [
       "<div>\n",
       "<style scoped>\n",
       "    .dataframe tbody tr th:only-of-type {\n",
       "        vertical-align: middle;\n",
       "    }\n",
       "\n",
       "    .dataframe tbody tr th {\n",
       "        vertical-align: top;\n",
       "    }\n",
       "\n",
       "    .dataframe thead th {\n",
       "        text-align: right;\n",
       "    }\n",
       "</style>\n",
       "<table border=\"1\" class=\"dataframe\">\n",
       "  <thead>\n",
       "    <tr style=\"text-align: right;\">\n",
       "      <th></th>\n",
       "      <th>id</th>\n",
       "      <th>name</th>\n",
       "      <th>height</th>\n",
       "      <th>weight</th>\n",
       "      <th>color</th>\n",
       "      <th>shape</th>\n",
       "      <th>is baby</th>\n",
       "      <th>type 1</th>\n",
       "      <th>type 2</th>\n",
       "      <th>hp</th>\n",
       "      <th>...</th>\n",
       "      <th>defense</th>\n",
       "      <th>sp. attack</th>\n",
       "      <th>sp. defense</th>\n",
       "      <th>speed</th>\n",
       "      <th>total</th>\n",
       "      <th>generation</th>\n",
       "      <th>evolves from</th>\n",
       "      <th>evolution group</th>\n",
       "      <th>fm gender ratio</th>\n",
       "      <th>has_gender_differences</th>\n",
       "    </tr>\n",
       "  </thead>\n",
       "  <tbody>\n",
       "    <tr>\n",
       "      <th>796</th>\n",
       "      <td>797</td>\n",
       "      <td>celesteela</td>\n",
       "      <td>9.2</td>\n",
       "      <td>999.9</td>\n",
       "      <td>green</td>\n",
       "      <td>humanoid</td>\n",
       "      <td>False</td>\n",
       "      <td>Steel</td>\n",
       "      <td>Flying</td>\n",
       "      <td>97</td>\n",
       "      <td>...</td>\n",
       "      <td>103</td>\n",
       "      <td>107</td>\n",
       "      <td>101</td>\n",
       "      <td>61</td>\n",
       "      <td>570</td>\n",
       "      <td>7</td>\n",
       "      <td>NaN</td>\n",
       "      <td>418</td>\n",
       "      <td>0:0</td>\n",
       "      <td>0</td>\n",
       "    </tr>\n",
       "    <tr>\n",
       "      <th>789</th>\n",
       "      <td>790</td>\n",
       "      <td>cosmoem</td>\n",
       "      <td>0.1</td>\n",
       "      <td>999.9</td>\n",
       "      <td>blue</td>\n",
       "      <td>ball</td>\n",
       "      <td>False</td>\n",
       "      <td>Psychic</td>\n",
       "      <td>NaN</td>\n",
       "      <td>43</td>\n",
       "      <td>...</td>\n",
       "      <td>131</td>\n",
       "      <td>29</td>\n",
       "      <td>131</td>\n",
       "      <td>37</td>\n",
       "      <td>400</td>\n",
       "      <td>7</td>\n",
       "      <td>789.0</td>\n",
       "      <td>413</td>\n",
       "      <td>0:0</td>\n",
       "      <td>0</td>\n",
       "    </tr>\n",
       "    <tr>\n",
       "      <th>382</th>\n",
       "      <td>383</td>\n",
       "      <td>groudon</td>\n",
       "      <td>3.5</td>\n",
       "      <td>950.0</td>\n",
       "      <td>red</td>\n",
       "      <td>upright</td>\n",
       "      <td>False</td>\n",
       "      <td>Ground</td>\n",
       "      <td>NaN</td>\n",
       "      <td>100</td>\n",
       "      <td>...</td>\n",
       "      <td>140</td>\n",
       "      <td>100</td>\n",
       "      <td>90</td>\n",
       "      <td>90</td>\n",
       "      <td>670</td>\n",
       "      <td>3</td>\n",
       "      <td>NaN</td>\n",
       "      <td>199</td>\n",
       "      <td>0:0</td>\n",
       "      <td>0</td>\n",
       "    </tr>\n",
       "    <tr>\n",
       "      <th>749</th>\n",
       "      <td>750</td>\n",
       "      <td>mudsdale</td>\n",
       "      <td>2.5</td>\n",
       "      <td>920.0</td>\n",
       "      <td>brown</td>\n",
       "      <td>quadruped</td>\n",
       "      <td>False</td>\n",
       "      <td>Ground</td>\n",
       "      <td>NaN</td>\n",
       "      <td>100</td>\n",
       "      <td>...</td>\n",
       "      <td>100</td>\n",
       "      <td>55</td>\n",
       "      <td>85</td>\n",
       "      <td>35</td>\n",
       "      <td>500</td>\n",
       "      <td>7</td>\n",
       "      <td>749.0</td>\n",
       "      <td>386</td>\n",
       "      <td>1:1</td>\n",
       "      <td>0</td>\n",
       "    </tr>\n",
       "    <tr>\n",
       "      <th>798</th>\n",
       "      <td>799</td>\n",
       "      <td>guzzlord</td>\n",
       "      <td>5.5</td>\n",
       "      <td>888.0</td>\n",
       "      <td>black</td>\n",
       "      <td>upright</td>\n",
       "      <td>False</td>\n",
       "      <td>Dark</td>\n",
       "      <td>Dragon</td>\n",
       "      <td>223</td>\n",
       "      <td>...</td>\n",
       "      <td>53</td>\n",
       "      <td>97</td>\n",
       "      <td>53</td>\n",
       "      <td>43</td>\n",
       "      <td>570</td>\n",
       "      <td>7</td>\n",
       "      <td>NaN</td>\n",
       "      <td>420</td>\n",
       "      <td>0:0</td>\n",
       "      <td>0</td>\n",
       "    </tr>\n",
       "  </tbody>\n",
       "</table>\n",
       "<p>5 rows × 21 columns</p>\n",
       "</div>"
      ],
      "text/plain": [
       "      id        name  height  weight  color      shape  is baby   type 1  \\\n",
       "796  797  celesteela     9.2   999.9  green   humanoid    False    Steel   \n",
       "789  790     cosmoem     0.1   999.9   blue       ball    False  Psychic   \n",
       "382  383     groudon     3.5   950.0    red    upright    False   Ground   \n",
       "749  750    mudsdale     2.5   920.0  brown  quadruped    False   Ground   \n",
       "798  799    guzzlord     5.5   888.0  black    upright    False     Dark   \n",
       "\n",
       "     type 2   hp  ...  defense  sp. attack  sp. defense  speed  total  \\\n",
       "796  Flying   97  ...      103         107          101     61    570   \n",
       "789     NaN   43  ...      131          29          131     37    400   \n",
       "382     NaN  100  ...      140         100           90     90    670   \n",
       "749     NaN  100  ...      100          55           85     35    500   \n",
       "798  Dragon  223  ...       53          97           53     43    570   \n",
       "\n",
       "     generation  evolves from  evolution group  fm gender ratio  \\\n",
       "796           7           NaN              418              0:0   \n",
       "789           7         789.0              413              0:0   \n",
       "382           3           NaN              199              0:0   \n",
       "749           7         749.0              386              1:1   \n",
       "798           7           NaN              420              0:0   \n",
       "\n",
       "    has_gender_differences  \n",
       "796                      0  \n",
       "789                      0  \n",
       "382                      0  \n",
       "749                      0  \n",
       "798                      0  \n",
       "\n",
       "[5 rows x 21 columns]"
      ]
     },
     "execution_count": 8,
     "metadata": {},
     "output_type": "execute_result"
    }
   ],
   "source": [
    "pokemon_df.sort_values(by=\"weight\", ascending=False).head()"
   ]
  },
  {
   "cell_type": "markdown",
   "metadata": {},
   "source": [
    "**Cvičení** Spočítejte průměrnou váhu dospělých Pokémonů lehčích než nějtěžší baby pokémon."
   ]
  },
  {
   "cell_type": "markdown",
   "metadata": {},
   "source": [
    "## Groupby\n",
    "Poslední důležitou operací je groupby ta rozdělí DataFrame podle nějaké kategorické proměnné nebo taky podle funkce do skupin."
   ]
  },
  {
   "cell_type": "code",
   "execution_count": 11,
   "metadata": {},
   "outputs": [
    {
     "data": {
      "text/html": [
       "<div>\n",
       "<style scoped>\n",
       "    .dataframe tbody tr th:only-of-type {\n",
       "        vertical-align: middle;\n",
       "    }\n",
       "\n",
       "    .dataframe tbody tr th {\n",
       "        vertical-align: top;\n",
       "    }\n",
       "\n",
       "    .dataframe thead tr th {\n",
       "        text-align: left;\n",
       "    }\n",
       "\n",
       "    .dataframe thead tr:last-of-type th {\n",
       "        text-align: right;\n",
       "    }\n",
       "</style>\n",
       "<table border=\"1\" class=\"dataframe\">\n",
       "  <thead>\n",
       "    <tr>\n",
       "      <th></th>\n",
       "      <th colspan=\"8\" halign=\"left\">height</th>\n",
       "      <th colspan=\"2\" halign=\"left\">weight</th>\n",
       "      <th>...</th>\n",
       "      <th colspan=\"2\" halign=\"left\">evolution group</th>\n",
       "      <th colspan=\"8\" halign=\"left\">has_gender_differences</th>\n",
       "    </tr>\n",
       "    <tr>\n",
       "      <th></th>\n",
       "      <th>count</th>\n",
       "      <th>mean</th>\n",
       "      <th>std</th>\n",
       "      <th>min</th>\n",
       "      <th>25%</th>\n",
       "      <th>50%</th>\n",
       "      <th>75%</th>\n",
       "      <th>max</th>\n",
       "      <th>count</th>\n",
       "      <th>mean</th>\n",
       "      <th>...</th>\n",
       "      <th>75%</th>\n",
       "      <th>max</th>\n",
       "      <th>count</th>\n",
       "      <th>mean</th>\n",
       "      <th>std</th>\n",
       "      <th>min</th>\n",
       "      <th>25%</th>\n",
       "      <th>50%</th>\n",
       "      <th>75%</th>\n",
       "      <th>max</th>\n",
       "    </tr>\n",
       "    <tr>\n",
       "      <th>shape</th>\n",
       "      <th></th>\n",
       "      <th></th>\n",
       "      <th></th>\n",
       "      <th></th>\n",
       "      <th></th>\n",
       "      <th></th>\n",
       "      <th></th>\n",
       "      <th></th>\n",
       "      <th></th>\n",
       "      <th></th>\n",
       "      <th></th>\n",
       "      <th></th>\n",
       "      <th></th>\n",
       "      <th></th>\n",
       "      <th></th>\n",
       "      <th></th>\n",
       "      <th></th>\n",
       "      <th></th>\n",
       "      <th></th>\n",
       "      <th></th>\n",
       "      <th></th>\n",
       "    </tr>\n",
       "  </thead>\n",
       "  <tbody>\n",
       "    <tr>\n",
       "      <th>armor</th>\n",
       "      <td>38.0</td>\n",
       "      <td>0.736842</td>\n",
       "      <td>0.529876</td>\n",
       "      <td>0.1</td>\n",
       "      <td>0.325</td>\n",
       "      <td>0.55</td>\n",
       "      <td>1.075</td>\n",
       "      <td>2.5</td>\n",
       "      <td>38.0</td>\n",
       "      <td>30.897368</td>\n",
       "      <td>...</td>\n",
       "      <td>317.25</td>\n",
       "      <td>387.0</td>\n",
       "      <td>38.0</td>\n",
       "      <td>0.000000</td>\n",
       "      <td>0.000000</td>\n",
       "      <td>0.0</td>\n",
       "      <td>0.0</td>\n",
       "      <td>0.0</td>\n",
       "      <td>0.0</td>\n",
       "      <td>0.0</td>\n",
       "    </tr>\n",
       "    <tr>\n",
       "      <th>arms</th>\n",
       "      <td>45.0</td>\n",
       "      <td>0.960000</td>\n",
       "      <td>0.561815</td>\n",
       "      <td>0.1</td>\n",
       "      <td>0.500</td>\n",
       "      <td>0.90</td>\n",
       "      <td>1.300</td>\n",
       "      <td>2.4</td>\n",
       "      <td>45.0</td>\n",
       "      <td>40.413333</td>\n",
       "      <td>...</td>\n",
       "      <td>344.00</td>\n",
       "      <td>421.0</td>\n",
       "      <td>45.0</td>\n",
       "      <td>0.044444</td>\n",
       "      <td>0.208409</td>\n",
       "      <td>0.0</td>\n",
       "      <td>0.0</td>\n",
       "      <td>0.0</td>\n",
       "      <td>0.0</td>\n",
       "      <td>1.0</td>\n",
       "    </tr>\n",
       "    <tr>\n",
       "      <th>ball</th>\n",
       "      <td>37.0</td>\n",
       "      <td>0.624324</td>\n",
       "      <td>0.402358</td>\n",
       "      <td>0.1</td>\n",
       "      <td>0.300</td>\n",
       "      <td>0.50</td>\n",
       "      <td>0.900</td>\n",
       "      <td>1.5</td>\n",
       "      <td>37.0</td>\n",
       "      <td>64.237838</td>\n",
       "      <td>...</td>\n",
       "      <td>304.00</td>\n",
       "      <td>413.0</td>\n",
       "      <td>37.0</td>\n",
       "      <td>0.000000</td>\n",
       "      <td>0.000000</td>\n",
       "      <td>0.0</td>\n",
       "      <td>0.0</td>\n",
       "      <td>0.0</td>\n",
       "      <td>0.0</td>\n",
       "      <td>0.0</td>\n",
       "    </tr>\n",
       "    <tr>\n",
       "      <th>blob</th>\n",
       "      <td>33.0</td>\n",
       "      <td>1.006061</td>\n",
       "      <td>0.725405</td>\n",
       "      <td>0.2</td>\n",
       "      <td>0.500</td>\n",
       "      <td>1.00</td>\n",
       "      <td>1.300</td>\n",
       "      <td>3.9</td>\n",
       "      <td>33.0</td>\n",
       "      <td>38.109091</td>\n",
       "      <td>...</td>\n",
       "      <td>349.00</td>\n",
       "      <td>407.0</td>\n",
       "      <td>33.0</td>\n",
       "      <td>0.030303</td>\n",
       "      <td>0.174078</td>\n",
       "      <td>0.0</td>\n",
       "      <td>0.0</td>\n",
       "      <td>0.0</td>\n",
       "      <td>0.0</td>\n",
       "      <td>1.0</td>\n",
       "    </tr>\n",
       "    <tr>\n",
       "      <th>bug-wings</th>\n",
       "      <td>19.0</td>\n",
       "      <td>1.200000</td>\n",
       "      <td>0.414997</td>\n",
       "      <td>0.2</td>\n",
       "      <td>1.000</td>\n",
       "      <td>1.20</td>\n",
       "      <td>1.500</td>\n",
       "      <td>1.9</td>\n",
       "      <td>19.0</td>\n",
       "      <td>34.431579</td>\n",
       "      <td>...</td>\n",
       "      <td>210.50</td>\n",
       "      <td>382.0</td>\n",
       "      <td>19.0</td>\n",
       "      <td>0.315789</td>\n",
       "      <td>0.477567</td>\n",
       "      <td>0.0</td>\n",
       "      <td>0.0</td>\n",
       "      <td>0.0</td>\n",
       "      <td>1.0</td>\n",
       "      <td>1.0</td>\n",
       "    </tr>\n",
       "    <tr>\n",
       "      <th>fish</th>\n",
       "      <td>36.0</td>\n",
       "      <td>1.452778</td>\n",
       "      <td>2.376851</td>\n",
       "      <td>0.2</td>\n",
       "      <td>0.600</td>\n",
       "      <td>0.90</td>\n",
       "      <td>1.225</td>\n",
       "      <td>14.5</td>\n",
       "      <td>36.0</td>\n",
       "      <td>55.925000</td>\n",
       "      <td>...</td>\n",
       "      <td>303.00</td>\n",
       "      <td>405.0</td>\n",
       "      <td>36.0</td>\n",
       "      <td>0.166667</td>\n",
       "      <td>0.377964</td>\n",
       "      <td>0.0</td>\n",
       "      <td>0.0</td>\n",
       "      <td>0.0</td>\n",
       "      <td>0.0</td>\n",
       "      <td>1.0</td>\n",
       "    </tr>\n",
       "    <tr>\n",
       "      <th>heads</th>\n",
       "      <td>15.0</td>\n",
       "      <td>0.826667</td>\n",
       "      <td>0.438287</td>\n",
       "      <td>0.3</td>\n",
       "      <td>0.450</td>\n",
       "      <td>0.70</td>\n",
       "      <td>1.250</td>\n",
       "      <td>1.6</td>\n",
       "      <td>15.0</td>\n",
       "      <td>89.740000</td>\n",
       "      <td>...</td>\n",
       "      <td>305.00</td>\n",
       "      <td>353.0</td>\n",
       "      <td>15.0</td>\n",
       "      <td>0.066667</td>\n",
       "      <td>0.258199</td>\n",
       "      <td>0.0</td>\n",
       "      <td>0.0</td>\n",
       "      <td>0.0</td>\n",
       "      <td>0.0</td>\n",
       "      <td>1.0</td>\n",
       "    </tr>\n",
       "    <tr>\n",
       "      <th>humanoid</th>\n",
       "      <td>124.0</td>\n",
       "      <td>1.139516</td>\n",
       "      <td>0.933985</td>\n",
       "      <td>0.2</td>\n",
       "      <td>0.600</td>\n",
       "      <td>1.00</td>\n",
       "      <td>1.500</td>\n",
       "      <td>9.2</td>\n",
       "      <td>124.0</td>\n",
       "      <td>62.096774</td>\n",
       "      <td>...</td>\n",
       "      <td>290.75</td>\n",
       "      <td>427.0</td>\n",
       "      <td>124.0</td>\n",
       "      <td>0.153226</td>\n",
       "      <td>0.361666</td>\n",
       "      <td>0.0</td>\n",
       "      <td>0.0</td>\n",
       "      <td>0.0</td>\n",
       "      <td>0.0</td>\n",
       "      <td>1.0</td>\n",
       "    </tr>\n",
       "    <tr>\n",
       "      <th>legs</th>\n",
       "      <td>19.0</td>\n",
       "      <td>0.684211</td>\n",
       "      <td>0.510189</td>\n",
       "      <td>0.2</td>\n",
       "      <td>0.400</td>\n",
       "      <td>0.50</td>\n",
       "      <td>0.700</td>\n",
       "      <td>2.0</td>\n",
       "      <td>19.0</td>\n",
       "      <td>23.194737</td>\n",
       "      <td>...</td>\n",
       "      <td>179.50</td>\n",
       "      <td>392.0</td>\n",
       "      <td>19.0</td>\n",
       "      <td>0.210526</td>\n",
       "      <td>0.418854</td>\n",
       "      <td>0.0</td>\n",
       "      <td>0.0</td>\n",
       "      <td>0.0</td>\n",
       "      <td>0.0</td>\n",
       "      <td>1.0</td>\n",
       "    </tr>\n",
       "    <tr>\n",
       "      <th>quadruped</th>\n",
       "      <td>151.0</td>\n",
       "      <td>1.145033</td>\n",
       "      <td>0.816390</td>\n",
       "      <td>0.2</td>\n",
       "      <td>0.600</td>\n",
       "      <td>1.00</td>\n",
       "      <td>1.500</td>\n",
       "      <td>5.5</td>\n",
       "      <td>151.0</td>\n",
       "      <td>81.317881</td>\n",
       "      <td>...</td>\n",
       "      <td>297.50</td>\n",
       "      <td>425.0</td>\n",
       "      <td>151.0</td>\n",
       "      <td>0.152318</td>\n",
       "      <td>0.360525</td>\n",
       "      <td>0.0</td>\n",
       "      <td>0.0</td>\n",
       "      <td>0.0</td>\n",
       "      <td>0.0</td>\n",
       "      <td>1.0</td>\n",
       "    </tr>\n",
       "    <tr>\n",
       "      <th>squiggle</th>\n",
       "      <td>32.0</td>\n",
       "      <td>2.496875</td>\n",
       "      <td>2.537650</td>\n",
       "      <td>0.2</td>\n",
       "      <td>0.700</td>\n",
       "      <td>1.50</td>\n",
       "      <td>3.350</td>\n",
       "      <td>9.2</td>\n",
       "      <td>32.0</td>\n",
       "      <td>85.812500</td>\n",
       "      <td>...</td>\n",
       "      <td>362.00</td>\n",
       "      <td>406.0</td>\n",
       "      <td>32.0</td>\n",
       "      <td>0.093750</td>\n",
       "      <td>0.296145</td>\n",
       "      <td>0.0</td>\n",
       "      <td>0.0</td>\n",
       "      <td>0.0</td>\n",
       "      <td>0.0</td>\n",
       "      <td>1.0</td>\n",
       "    </tr>\n",
       "    <tr>\n",
       "      <th>tentacles</th>\n",
       "      <td>18.0</td>\n",
       "      <td>1.355556</td>\n",
       "      <td>0.964196</td>\n",
       "      <td>0.4</td>\n",
       "      <td>0.900</td>\n",
       "      <td>1.10</td>\n",
       "      <td>1.575</td>\n",
       "      <td>4.5</td>\n",
       "      <td>18.0</td>\n",
       "      <td>115.477778</td>\n",
       "      <td>...</td>\n",
       "      <td>361.00</td>\n",
       "      <td>415.0</td>\n",
       "      <td>18.0</td>\n",
       "      <td>0.166667</td>\n",
       "      <td>0.383482</td>\n",
       "      <td>0.0</td>\n",
       "      <td>0.0</td>\n",
       "      <td>0.0</td>\n",
       "      <td>0.0</td>\n",
       "      <td>1.0</td>\n",
       "    </tr>\n",
       "    <tr>\n",
       "      <th>upright</th>\n",
       "      <td>168.0</td>\n",
       "      <td>1.186310</td>\n",
       "      <td>0.748646</td>\n",
       "      <td>0.2</td>\n",
       "      <td>0.600</td>\n",
       "      <td>1.00</td>\n",
       "      <td>1.500</td>\n",
       "      <td>5.5</td>\n",
       "      <td>168.0</td>\n",
       "      <td>64.836905</td>\n",
       "      <td>...</td>\n",
       "      <td>285.00</td>\n",
       "      <td>424.0</td>\n",
       "      <td>168.0</td>\n",
       "      <td>0.113095</td>\n",
       "      <td>0.317656</td>\n",
       "      <td>0.0</td>\n",
       "      <td>0.0</td>\n",
       "      <td>0.0</td>\n",
       "      <td>0.0</td>\n",
       "      <td>1.0</td>\n",
       "    </tr>\n",
       "    <tr>\n",
       "      <th>wings</th>\n",
       "      <td>72.0</td>\n",
       "      <td>1.281944</td>\n",
       "      <td>1.076160</td>\n",
       "      <td>0.2</td>\n",
       "      <td>0.575</td>\n",
       "      <td>1.10</td>\n",
       "      <td>1.525</td>\n",
       "      <td>5.8</td>\n",
       "      <td>72.0</td>\n",
       "      <td>42.662500</td>\n",
       "      <td>...</td>\n",
       "      <td>319.25</td>\n",
       "      <td>424.0</td>\n",
       "      <td>72.0</td>\n",
       "      <td>0.152778</td>\n",
       "      <td>0.362298</td>\n",
       "      <td>0.0</td>\n",
       "      <td>0.0</td>\n",
       "      <td>0.0</td>\n",
       "      <td>0.0</td>\n",
       "      <td>1.0</td>\n",
       "    </tr>\n",
       "  </tbody>\n",
       "</table>\n",
       "<p>14 rows × 104 columns</p>\n",
       "</div>"
      ],
      "text/plain": [
       "          height                                                    weight  \\\n",
       "           count      mean       std  min    25%   50%    75%   max  count   \n",
       "shape                                                                        \n",
       "armor       38.0  0.736842  0.529876  0.1  0.325  0.55  1.075   2.5   38.0   \n",
       "arms        45.0  0.960000  0.561815  0.1  0.500  0.90  1.300   2.4   45.0   \n",
       "ball        37.0  0.624324  0.402358  0.1  0.300  0.50  0.900   1.5   37.0   \n",
       "blob        33.0  1.006061  0.725405  0.2  0.500  1.00  1.300   3.9   33.0   \n",
       "bug-wings   19.0  1.200000  0.414997  0.2  1.000  1.20  1.500   1.9   19.0   \n",
       "fish        36.0  1.452778  2.376851  0.2  0.600  0.90  1.225  14.5   36.0   \n",
       "heads       15.0  0.826667  0.438287  0.3  0.450  0.70  1.250   1.6   15.0   \n",
       "humanoid   124.0  1.139516  0.933985  0.2  0.600  1.00  1.500   9.2  124.0   \n",
       "legs        19.0  0.684211  0.510189  0.2  0.400  0.50  0.700   2.0   19.0   \n",
       "quadruped  151.0  1.145033  0.816390  0.2  0.600  1.00  1.500   5.5  151.0   \n",
       "squiggle    32.0  2.496875  2.537650  0.2  0.700  1.50  3.350   9.2   32.0   \n",
       "tentacles   18.0  1.355556  0.964196  0.4  0.900  1.10  1.575   4.5   18.0   \n",
       "upright    168.0  1.186310  0.748646  0.2  0.600  1.00  1.500   5.5  168.0   \n",
       "wings       72.0  1.281944  1.076160  0.2  0.575  1.10  1.525   5.8   72.0   \n",
       "\n",
       "                       ... evolution group        has_gender_differences  \\\n",
       "                 mean  ...             75%    max                  count   \n",
       "shape                  ...                                                 \n",
       "armor       30.897368  ...          317.25  387.0                   38.0   \n",
       "arms        40.413333  ...          344.00  421.0                   45.0   \n",
       "ball        64.237838  ...          304.00  413.0                   37.0   \n",
       "blob        38.109091  ...          349.00  407.0                   33.0   \n",
       "bug-wings   34.431579  ...          210.50  382.0                   19.0   \n",
       "fish        55.925000  ...          303.00  405.0                   36.0   \n",
       "heads       89.740000  ...          305.00  353.0                   15.0   \n",
       "humanoid    62.096774  ...          290.75  427.0                  124.0   \n",
       "legs        23.194737  ...          179.50  392.0                   19.0   \n",
       "quadruped   81.317881  ...          297.50  425.0                  151.0   \n",
       "squiggle    85.812500  ...          362.00  406.0                   32.0   \n",
       "tentacles  115.477778  ...          361.00  415.0                   18.0   \n",
       "upright     64.836905  ...          285.00  424.0                  168.0   \n",
       "wings       42.662500  ...          319.25  424.0                   72.0   \n",
       "\n",
       "                                                        \n",
       "               mean       std  min  25%  50%  75%  max  \n",
       "shape                                                   \n",
       "armor      0.000000  0.000000  0.0  0.0  0.0  0.0  0.0  \n",
       "arms       0.044444  0.208409  0.0  0.0  0.0  0.0  1.0  \n",
       "ball       0.000000  0.000000  0.0  0.0  0.0  0.0  0.0  \n",
       "blob       0.030303  0.174078  0.0  0.0  0.0  0.0  1.0  \n",
       "bug-wings  0.315789  0.477567  0.0  0.0  0.0  1.0  1.0  \n",
       "fish       0.166667  0.377964  0.0  0.0  0.0  0.0  1.0  \n",
       "heads      0.066667  0.258199  0.0  0.0  0.0  0.0  1.0  \n",
       "humanoid   0.153226  0.361666  0.0  0.0  0.0  0.0  1.0  \n",
       "legs       0.210526  0.418854  0.0  0.0  0.0  0.0  1.0  \n",
       "quadruped  0.152318  0.360525  0.0  0.0  0.0  0.0  1.0  \n",
       "squiggle   0.093750  0.296145  0.0  0.0  0.0  0.0  1.0  \n",
       "tentacles  0.166667  0.383482  0.0  0.0  0.0  0.0  1.0  \n",
       "upright    0.113095  0.317656  0.0  0.0  0.0  0.0  1.0  \n",
       "wings      0.152778  0.362298  0.0  0.0  0.0  0.0  1.0  \n",
       "\n",
       "[14 rows x 104 columns]"
      ]
     },
     "execution_count": 11,
     "metadata": {},
     "output_type": "execute_result"
    }
   ],
   "source": [
    "# sloupec 'id' zahodíme aby nepřekážel ve výpisu\n",
    "pokemon_df.groupby(\"shape\").describe()"
   ]
  },
  {
   "cell_type": "code",
   "execution_count": 12,
   "metadata": {},
   "outputs": [
    {
     "data": {
      "text/html": [
       "<div>\n",
       "<style scoped>\n",
       "    .dataframe tbody tr th:only-of-type {\n",
       "        vertical-align: middle;\n",
       "    }\n",
       "\n",
       "    .dataframe tbody tr th {\n",
       "        vertical-align: top;\n",
       "    }\n",
       "\n",
       "    .dataframe thead tr th {\n",
       "        text-align: left;\n",
       "    }\n",
       "</style>\n",
       "<table border=\"1\" class=\"dataframe\">\n",
       "  <thead>\n",
       "    <tr>\n",
       "      <th></th>\n",
       "      <th colspan=\"8\" halign=\"left\">height</th>\n",
       "      <th colspan=\"2\" halign=\"left\">weight</th>\n",
       "      <th>...</th>\n",
       "      <th colspan=\"2\" halign=\"left\">evolution group</th>\n",
       "      <th colspan=\"8\" halign=\"left\">has_gender_differences</th>\n",
       "    </tr>\n",
       "    <tr>\n",
       "      <th></th>\n",
       "      <th>count</th>\n",
       "      <th>mean</th>\n",
       "      <th>std</th>\n",
       "      <th>min</th>\n",
       "      <th>25%</th>\n",
       "      <th>50%</th>\n",
       "      <th>75%</th>\n",
       "      <th>max</th>\n",
       "      <th>count</th>\n",
       "      <th>mean</th>\n",
       "      <th>...</th>\n",
       "      <th>75%</th>\n",
       "      <th>max</th>\n",
       "      <th>count</th>\n",
       "      <th>mean</th>\n",
       "      <th>std</th>\n",
       "      <th>min</th>\n",
       "      <th>25%</th>\n",
       "      <th>50%</th>\n",
       "      <th>75%</th>\n",
       "      <th>max</th>\n",
       "    </tr>\n",
       "  </thead>\n",
       "  <tbody>\n",
       "    <tr>\n",
       "      <th>heavy</th>\n",
       "      <td>378.0</td>\n",
       "      <td>1.728307</td>\n",
       "      <td>1.318555</td>\n",
       "      <td>0.1</td>\n",
       "      <td>1.1</td>\n",
       "      <td>1.5</td>\n",
       "      <td>1.875</td>\n",
       "      <td>14.5</td>\n",
       "      <td>378.0</td>\n",
       "      <td>118.546296</td>\n",
       "      <td>...</td>\n",
       "      <td>303.50</td>\n",
       "      <td>427.0</td>\n",
       "      <td>378.0</td>\n",
       "      <td>0.145503</td>\n",
       "      <td>0.353074</td>\n",
       "      <td>0.0</td>\n",
       "      <td>0.0</td>\n",
       "      <td>0.0</td>\n",
       "      <td>0.0</td>\n",
       "      <td>1.0</td>\n",
       "    </tr>\n",
       "    <tr>\n",
       "      <th>light</th>\n",
       "      <td>199.0</td>\n",
       "      <td>0.456281</td>\n",
       "      <td>0.250954</td>\n",
       "      <td>0.1</td>\n",
       "      <td>0.3</td>\n",
       "      <td>0.4</td>\n",
       "      <td>0.500</td>\n",
       "      <td>2.0</td>\n",
       "      <td>199.0</td>\n",
       "      <td>4.210050</td>\n",
       "      <td>...</td>\n",
       "      <td>341.50</td>\n",
       "      <td>424.0</td>\n",
       "      <td>199.0</td>\n",
       "      <td>0.070352</td>\n",
       "      <td>0.256384</td>\n",
       "      <td>0.0</td>\n",
       "      <td>0.0</td>\n",
       "      <td>0.0</td>\n",
       "      <td>0.0</td>\n",
       "      <td>1.0</td>\n",
       "    </tr>\n",
       "    <tr>\n",
       "      <th>medium</th>\n",
       "      <td>230.0</td>\n",
       "      <td>0.843478</td>\n",
       "      <td>0.363902</td>\n",
       "      <td>0.3</td>\n",
       "      <td>0.6</td>\n",
       "      <td>0.8</td>\n",
       "      <td>1.000</td>\n",
       "      <td>4.0</td>\n",
       "      <td>230.0</td>\n",
       "      <td>18.265217</td>\n",
       "      <td>...</td>\n",
       "      <td>302.25</td>\n",
       "      <td>426.0</td>\n",
       "      <td>230.0</td>\n",
       "      <td>0.126087</td>\n",
       "      <td>0.332671</td>\n",
       "      <td>0.0</td>\n",
       "      <td>0.0</td>\n",
       "      <td>0.0</td>\n",
       "      <td>0.0</td>\n",
       "      <td>1.0</td>\n",
       "    </tr>\n",
       "  </tbody>\n",
       "</table>\n",
       "<p>3 rows × 104 columns</p>\n",
       "</div>"
      ],
      "text/plain": [
       "       height                                                 weight  \\\n",
       "        count      mean       std  min  25%  50%    75%   max  count   \n",
       "heavy   378.0  1.728307  1.318555  0.1  1.1  1.5  1.875  14.5  378.0   \n",
       "light   199.0  0.456281  0.250954  0.1  0.3  0.4  0.500   2.0  199.0   \n",
       "medium  230.0  0.843478  0.363902  0.3  0.6  0.8  1.000   4.0  230.0   \n",
       "\n",
       "                    ... evolution group        has_gender_differences  \\\n",
       "              mean  ...             75%    max                  count   \n",
       "heavy   118.546296  ...          303.50  427.0                  378.0   \n",
       "light     4.210050  ...          341.50  424.0                  199.0   \n",
       "medium   18.265217  ...          302.25  426.0                  230.0   \n",
       "\n",
       "                                                     \n",
       "            mean       std  min  25%  50%  75%  max  \n",
       "heavy   0.145503  0.353074  0.0  0.0  0.0  0.0  1.0  \n",
       "light   0.070352  0.256384  0.0  0.0  0.0  0.0  1.0  \n",
       "medium  0.126087  0.332671  0.0  0.0  0.0  0.0  1.0  \n",
       "\n",
       "[3 rows x 104 columns]"
      ]
     },
     "execution_count": 12,
     "metadata": {},
     "output_type": "execute_result"
    }
   ],
   "source": [
    "# rozdělení podle funkce:\n",
    "# funkce se zavolá postupně na každou položku indexu a její výstup se použije k zařazení dané položky do skupiny\n",
    "def get_weight_category(irow):\n",
    "    row = pokemon_df.loc[irow]\n",
    "    if row.weight < 9:\n",
    "        return \"light\"\n",
    "    elif row.weight < 30:\n",
    "        return \"medium\"\n",
    "    else:\n",
    "        return \"heavy\"\n",
    "    \n",
    "pokemon_df.groupby(by=get_weight_category).describe()"
   ]
  },
  {
   "cell_type": "markdown",
   "metadata": {},
   "source": [
    "## Statistické testy"
   ]
  },
  {
   "cell_type": "markdown",
   "metadata": {},
   "source": [
    "Na základní statistiku nám stačí `scipy` a její modul `stats`. Pro pokročilejší analýzu existují například [`statsmodels`](https://www.statsmodels.org/stable/index.html), [`spm`](http://www.spm1d.org/) a jiné. "
   ]
  },
  {
   "cell_type": "code",
   "execution_count": 16,
   "metadata": {},
   "outputs": [],
   "source": [
    "import scipy.stats as st"
   ]
  },
  {
   "cell_type": "code",
   "execution_count": 17,
   "metadata": {},
   "outputs": [],
   "source": [
    "import matplotlib.pyplot as plt\n",
    "import matplotlib as mpl\n",
    "import seaborn as sns\n",
    "%matplotlib inline\n",
    "mpl.rcParams['figure.dpi'] = 100 # bigger figures, yayy!"
   ]
  },
  {
   "cell_type": "markdown",
   "metadata": {},
   "source": [
    "Test normality"
   ]
  },
  {
   "cell_type": "code",
   "execution_count": 18,
   "metadata": {},
   "outputs": [
    {
     "data": {
      "text/plain": [
       "NormaltestResult(statistic=820.8751735153749, pvalue=5.6133342769384294e-179)"
      ]
     },
     "execution_count": 18,
     "metadata": {},
     "output_type": "execute_result"
    }
   ],
   "source": [
    "st.normaltest(pokemon_df[\"weight\"])"
   ]
  },
  {
   "cell_type": "code",
   "execution_count": 19,
   "metadata": {},
   "outputs": [
    {
     "data": {
      "text/plain": [
       "<matplotlib.axes._subplots.AxesSubplot at 0x7f647f23dda0>"
      ]
     },
     "execution_count": 19,
     "metadata": {},
     "output_type": "execute_result"
    },
    {
     "data": {
      "image/png": "[encoded data removed]",
      "text/plain": [
       "<Figure size 600x400 with 1 Axes>"
      ]
     },
     "metadata": {
      "needs_background": "light"
     },
     "output_type": "display_data"
    }
   ],
   "source": [
    "sns.distplot(pokemon_df[\"weight\"], fit=st.norm)"
   ]
  },
  {
   "cell_type": "markdown",
   "metadata": {},
   "source": [
    "Trochu pokročilejší použití pandas, scipy.stats a matplotlibu: test sloupců na normalitu dat."
   ]
  },
  {
   "cell_type": "code",
   "execution_count": 41,
   "metadata": {
    "scrolled": false
   },
   "outputs": [
    {
     "data": {
      "image/png": "[encoded data removed]",
      "text/plain": [
       "<Figure size 1200x700 with 8 Axes>"
      ]
     },
     "metadata": {
      "needs_background": "light"
     },
     "output_type": "display_data"
    }
   ],
   "source": [
    "fig, axs = plt.subplots(ncols=len(pokemon_df.loc[:, \"hp\" : \"total\"].columns)//2 + 1, nrows=2, figsize=(12, 7), sharey=True)\n",
    "for col, ax in zip(pokemon_df.loc[:, \"hp\" : \"total\"].columns, axs.flatten()):\n",
    "    \n",
    "    ntest = st.normaltest(pokemon_df[col])\n",
    "    \n",
    "    sns.distplot(pokemon_df[col], fit=st.norm, ax=ax)\n",
    "    ax.text(ax.get_xlim()[1], ax.get_ylim()[1], \"st=%.4f \\np=%.4e\" % ntest, \n",
    "            ha='right', va='top',\n",
    "            bbox={'facecolor':'red', 'alpha':0.5, 'pad':1} if ntest.pvalue < .005 else None)\n",
    "axs[-1, -1].axis(\"off\");"
   ]
  },
  {
   "cell_type": "markdown",
   "metadata": {},
   "source": [
    "Jednoduchý párový test - data nemají normální rozdělení musíme použít nějaký neparametrický třeba Kruskal-Wallis"
   ]
  },
  {
   "cell_type": "code",
   "execution_count": 40,
   "metadata": {},
   "outputs": [
    {
     "data": {
      "text/plain": [
       "KruskalResult(statistic=0.13407487384731367, pvalue=0.7142439271109309)"
      ]
     },
     "execution_count": 40,
     "metadata": {},
     "output_type": "execute_result"
    }
   ],
   "source": [
    "st.kruskal(pokemon_df[pokemon_df[\"shape\"] == \"quadruped\"][\"speed\"], \n",
    "           pokemon_df[pokemon_df[\"shape\"] == \"upright\"][\"speed\"])"
   ]
  },
  {
   "cell_type": "markdown",
   "metadata": {},
   "source": [
    "*Závěr*: Rychlost čtyřnohých a dvounohých Pokémonů se statisticky významně *neliší*."
   ]
  },
  {
   "cell_type": "markdown",
   "metadata": {},
   "source": [
    "## Lineární regrese"
   ]
  },
  {
   "cell_type": "code",
   "execution_count": 47,
   "metadata": {},
   "outputs": [
    {
     "data": {
      "text/plain": [
       "<matplotlib.axes._subplots.AxesSubplot at 0x7f647c982c18>"
      ]
     },
     "execution_count": 47,
     "metadata": {},
     "output_type": "execute_result"
    },
    {
     "data": {
      "image/png": "[encoded data removed]",
      "text/plain": [
       "<Figure size 600x400 with 1 Axes>"
      ]
     },
     "metadata": {
      "needs_background": "light"
     },
     "output_type": "display_data"
    }
   ],
   "source": [
    "sns.regplot(x=\"speed\", y=\"total\", data=pokemon_df)"
   ]
  },
  {
   "cell_type": "code",
   "execution_count": 48,
   "metadata": {},
   "outputs": [
    {
     "data": {
      "text/plain": [
       "LinregressResult(slope=2.157702991894385, intercept=279.85009734276434, rvalue=0.5389851337094776, pvalue=5.286171466031664e-62, stderr=0.11884792793925342)"
      ]
     },
     "execution_count": 48,
     "metadata": {},
     "output_type": "execute_result"
    }
   ],
   "source": [
    "st.linregress(pokemon_df[\"speed\"], pokemon_df[\"total\"])"
   ]
  }
 ],
 "metadata": {
  "kernelspec": {
   "display_name": "Python 3",
   "language": "python",
   "name": "python3"
  },
  "language_info": {
   "codemirror_mode": {
    "name": "ipython",
    "version": 3
   },
   "file_extension": ".py",
   "mimetype": "text/x-python",
   "name": "python",
   "nbconvert_exporter": "python",
   "pygments_lexer": "ipython3",
   "version": "3.7.2"
  }
 },
 "nbformat": 4,
 "nbformat_minor": 2
}
