{
 "cells": [
  {
   "cell_type": "markdown",
   "metadata": {},
   "source": [
    "# Lehká analýza"
   ]
  },
  {
   "cell_type": "markdown",
   "metadata": {},
   "source": [
    "1. Celkový pohled na data, víc filtrování \n",
    "2. Základní statistiky: min, max, mean, median, standard deviation, korelace\n",
    "3. statistické testy: test normality\n",
    "4. lineární regrese"
   ]
  },
  {
   "cell_type": "code",
   "execution_count": 1,
   "metadata": {},
   "outputs": [],
   "source": [
    "import pandas as pd"
   ]
  },
  {
   "cell_type": "code",
   "execution_count": 2,
   "metadata": {},
   "outputs": [],
   "source": [
    "pokemon_df = pd.read_csv(\"data/Pokemon.csv\")"
   ]
  },
  {
   "cell_type": "markdown",
   "metadata": {},
   "source": [
    "## Základní údaje o datech"
   ]
  },
  {
   "cell_type": "code",
   "execution_count": 3,
   "metadata": {},
   "outputs": [
    {
     "data": {
      "text/plain": [
       "(807, 21)"
      ]
     },
     "execution_count": 3,
     "metadata": {},
     "output_type": "execute_result"
    }
   ],
   "source": [
    "pokemon_df.shape"
   ]
  },
  {
   "cell_type": "code",
   "execution_count": 4,
   "metadata": {},
   "outputs": [
    {
     "name": "stdout",
     "output_type": "stream",
     "text": [
      "<class 'pandas.core.frame.DataFrame'>\n",
      "RangeIndex: 807 entries, 0 to 806\n",
      "Data columns (total 21 columns):\n",
      "id                        807 non-null int64\n",
      "name                      807 non-null object\n",
      "height                    807 non-null float64\n",
      "weight                    807 non-null float64\n",
      "color                     807 non-null object\n",
      "shape                     807 non-null object\n",
      "is baby                   807 non-null bool\n",
      "type 1                    807 non-null object\n",
      "type 2                    405 non-null object\n",
      "hp                        807 non-null int64\n",
      "attack                    807 non-null int64\n",
      "defense                   807 non-null int64\n",
      "sp. attack                807 non-null int64\n",
      "sp. defense               807 non-null int64\n",
      "speed                     807 non-null int64\n",
      "total                     807 non-null int64\n",
      "generation                807 non-null int64\n",
      "evolves from              387 non-null float64\n",
      "evolution group           807 non-null int64\n",
      "fm gender ratio           807 non-null object\n",
      "has_gender_differences    807 non-null int64\n",
      "dtypes: bool(1), float64(3), int64(11), object(6)\n",
      "memory usage: 127.0+ KB\n"
     ]
    }
   ],
   "source": [
    "pokemon_df.info()"
   ]
  },
  {
   "cell_type": "code",
   "execution_count": 5,
   "metadata": {},
   "outputs": [
    {
     "data": {
      "text/plain": [
       "Index(['id', 'name', 'height', 'weight', 'color', 'shape', 'is baby', 'type 1',\n",
       "       'type 2', 'hp', 'attack', 'defense', 'sp. attack', 'sp. defense',\n",
       "       'speed', 'total', 'generation', 'evolves from', 'evolution group',\n",
       "       'fm gender ratio', 'has_gender_differences'],\n",
       "      dtype='object')"
      ]
     },
     "execution_count": 5,
     "metadata": {},
     "output_type": "execute_result"
    }
   ],
   "source": [
    "pokemon_df.columns"
   ]
  },
  {
   "cell_type": "code",
   "execution_count": 6,
   "metadata": {},
   "outputs": [
    {
     "data": {
      "text/html": [
       "<div>\n",
       "<style scoped>\n",
       "    .dataframe tbody tr th:only-of-type {\n",
       "        vertical-align: middle;\n",
       "    }\n",
       "\n",
       "    .dataframe tbody tr th {\n",
       "        vertical-align: top;\n",
       "    }\n",
       "\n",
       "    .dataframe thead th {\n",
       "        text-align: right;\n",
       "    }\n",
       "</style>\n",
       "<table border=\"1\" class=\"dataframe\">\n",
       "  <thead>\n",
       "    <tr style=\"text-align: right;\">\n",
       "      <th></th>\n",
       "      <th>id</th>\n",
       "      <th>height</th>\n",
       "      <th>weight</th>\n",
       "      <th>hp</th>\n",
       "      <th>attack</th>\n",
       "      <th>defense</th>\n",
       "      <th>sp. attack</th>\n",
       "      <th>sp. defense</th>\n",
       "      <th>speed</th>\n",
       "      <th>total</th>\n",
       "      <th>generation</th>\n",
       "      <th>evolves from</th>\n",
       "      <th>evolution group</th>\n",
       "      <th>has_gender_differences</th>\n",
       "    </tr>\n",
       "  </thead>\n",
       "  <tbody>\n",
       "    <tr>\n",
       "      <th>count</th>\n",
       "      <td>807.000000</td>\n",
       "      <td>807.000000</td>\n",
       "      <td>807.000000</td>\n",
       "      <td>807.000000</td>\n",
       "      <td>807.000000</td>\n",
       "      <td>807.000000</td>\n",
       "      <td>807.000000</td>\n",
       "      <td>807.000000</td>\n",
       "      <td>807.000000</td>\n",
       "      <td>807.000000</td>\n",
       "      <td>807.000000</td>\n",
       "      <td>387.000000</td>\n",
       "      <td>807.000000</td>\n",
       "      <td>807.000000</td>\n",
       "    </tr>\n",
       "    <tr>\n",
       "      <th>mean</th>\n",
       "      <td>404.000000</td>\n",
       "      <td>1.162454</td>\n",
       "      <td>61.771128</td>\n",
       "      <td>68.748451</td>\n",
       "      <td>76.086741</td>\n",
       "      <td>71.726146</td>\n",
       "      <td>69.486989</td>\n",
       "      <td>70.013631</td>\n",
       "      <td>65.830235</td>\n",
       "      <td>421.892193</td>\n",
       "      <td>3.714994</td>\n",
       "      <td>368.457364</td>\n",
       "      <td>199.174721</td>\n",
       "      <td>0.121437</td>\n",
       "    </tr>\n",
       "    <tr>\n",
       "      <th>std</th>\n",
       "      <td>233.105126</td>\n",
       "      <td>1.081030</td>\n",
       "      <td>111.519355</td>\n",
       "      <td>26.032808</td>\n",
       "      <td>29.544598</td>\n",
       "      <td>29.730228</td>\n",
       "      <td>29.439715</td>\n",
       "      <td>27.292344</td>\n",
       "      <td>27.736838</td>\n",
       "      <td>111.038051</td>\n",
       "      <td>1.944148</td>\n",
       "      <td>233.367619</td>\n",
       "      <td>125.005530</td>\n",
       "      <td>0.326837</td>\n",
       "    </tr>\n",
       "    <tr>\n",
       "      <th>min</th>\n",
       "      <td>1.000000</td>\n",
       "      <td>0.100000</td>\n",
       "      <td>0.100000</td>\n",
       "      <td>1.000000</td>\n",
       "      <td>5.000000</td>\n",
       "      <td>5.000000</td>\n",
       "      <td>10.000000</td>\n",
       "      <td>20.000000</td>\n",
       "      <td>5.000000</td>\n",
       "      <td>175.000000</td>\n",
       "      <td>1.000000</td>\n",
       "      <td>1.000000</td>\n",
       "      <td>1.000000</td>\n",
       "      <td>0.000000</td>\n",
       "    </tr>\n",
       "    <tr>\n",
       "      <th>25%</th>\n",
       "      <td>202.500000</td>\n",
       "      <td>0.600000</td>\n",
       "      <td>9.000000</td>\n",
       "      <td>50.000000</td>\n",
       "      <td>55.000000</td>\n",
       "      <td>50.000000</td>\n",
       "      <td>45.000000</td>\n",
       "      <td>50.000000</td>\n",
       "      <td>45.000000</td>\n",
       "      <td>321.500000</td>\n",
       "      <td>2.000000</td>\n",
       "      <td>158.500000</td>\n",
       "      <td>86.500000</td>\n",
       "      <td>0.000000</td>\n",
       "    </tr>\n",
       "    <tr>\n",
       "      <th>50%</th>\n",
       "      <td>404.000000</td>\n",
       "      <td>1.000000</td>\n",
       "      <td>27.000000</td>\n",
       "      <td>65.000000</td>\n",
       "      <td>75.000000</td>\n",
       "      <td>67.000000</td>\n",
       "      <td>65.000000</td>\n",
       "      <td>65.000000</td>\n",
       "      <td>65.000000</td>\n",
       "      <td>431.000000</td>\n",
       "      <td>4.000000</td>\n",
       "      <td>353.000000</td>\n",
       "      <td>192.000000</td>\n",
       "      <td>0.000000</td>\n",
       "    </tr>\n",
       "    <tr>\n",
       "      <th>75%</th>\n",
       "      <td>605.500000</td>\n",
       "      <td>1.500000</td>\n",
       "      <td>63.000000</td>\n",
       "      <td>80.000000</td>\n",
       "      <td>95.000000</td>\n",
       "      <td>89.000000</td>\n",
       "      <td>90.000000</td>\n",
       "      <td>85.000000</td>\n",
       "      <td>85.000000</td>\n",
       "      <td>500.000000</td>\n",
       "      <td>5.000000</td>\n",
       "      <td>574.500000</td>\n",
       "      <td>306.500000</td>\n",
       "      <td>0.000000</td>\n",
       "    </tr>\n",
       "    <tr>\n",
       "      <th>max</th>\n",
       "      <td>807.000000</td>\n",
       "      <td>14.500000</td>\n",
       "      <td>999.900000</td>\n",
       "      <td>255.000000</td>\n",
       "      <td>181.000000</td>\n",
       "      <td>230.000000</td>\n",
       "      <td>173.000000</td>\n",
       "      <td>230.000000</td>\n",
       "      <td>160.000000</td>\n",
       "      <td>720.000000</td>\n",
       "      <td>7.000000</td>\n",
       "      <td>803.000000</td>\n",
       "      <td>427.000000</td>\n",
       "      <td>1.000000</td>\n",
       "    </tr>\n",
       "  </tbody>\n",
       "</table>\n",
       "</div>"
      ],
      "text/plain": [
       "               id      height      weight          hp      attack     defense  \\\n",
       "count  807.000000  807.000000  807.000000  807.000000  807.000000  807.000000   \n",
       "mean   404.000000    1.162454   61.771128   68.748451   76.086741   71.726146   \n",
       "std    233.105126    1.081030  111.519355   26.032808   29.544598   29.730228   \n",
       "min      1.000000    0.100000    0.100000    1.000000    5.000000    5.000000   \n",
       "25%    202.500000    0.600000    9.000000   50.000000   55.000000   50.000000   \n",
       "50%    404.000000    1.000000   27.000000   65.000000   75.000000   67.000000   \n",
       "75%    605.500000    1.500000   63.000000   80.000000   95.000000   89.000000   \n",
       "max    807.000000   14.500000  999.900000  255.000000  181.000000  230.000000   \n",
       "\n",
       "       sp. attack  sp. defense       speed       total  generation  \\\n",
       "count  807.000000   807.000000  807.000000  807.000000  807.000000   \n",
       "mean    69.486989    70.013631   65.830235  421.892193    3.714994   \n",
       "std     29.439715    27.292344   27.736838  111.038051    1.944148   \n",
       "min     10.000000    20.000000    5.000000  175.000000    1.000000   \n",
       "25%     45.000000    50.000000   45.000000  321.500000    2.000000   \n",
       "50%     65.000000    65.000000   65.000000  431.000000    4.000000   \n",
       "75%     90.000000    85.000000   85.000000  500.000000    5.000000   \n",
       "max    173.000000   230.000000  160.000000  720.000000    7.000000   \n",
       "\n",
       "       evolves from  evolution group  has_gender_differences  \n",
       "count    387.000000       807.000000              807.000000  \n",
       "mean     368.457364       199.174721                0.121437  \n",
       "std      233.367619       125.005530                0.326837  \n",
       "min        1.000000         1.000000                0.000000  \n",
       "25%      158.500000        86.500000                0.000000  \n",
       "50%      353.000000       192.000000                0.000000  \n",
       "75%      574.500000       306.500000                0.000000  \n",
       "max      803.000000       427.000000                1.000000  "
      ]
     },
     "execution_count": 6,
     "metadata": {},
     "output_type": "execute_result"
    }
   ],
   "source": [
    "pokemon_df.describe()"
   ]
  },
  {
   "cell_type": "code",
   "execution_count": 7,
   "metadata": {},
   "outputs": [
    {
     "data": {
      "text/plain": [
       "id                            790\n",
       "name                      cosmoem\n",
       "height                        0.1\n",
       "weight                      999.9\n",
       "color                        blue\n",
       "shape                        ball\n",
       "is baby                     False\n",
       "type 1                    Psychic\n",
       "type 2                        NaN\n",
       "hp                             43\n",
       "attack                         29\n",
       "defense                       131\n",
       "sp. attack                     29\n",
       "sp. defense                   131\n",
       "speed                          37\n",
       "total                         400\n",
       "generation                      7\n",
       "evolves from                  789\n",
       "evolution group               413\n",
       "fm gender ratio               0:0\n",
       "has_gender_differences          0\n",
       "Name: 789, dtype: object"
      ]
     },
     "execution_count": 7,
     "metadata": {},
     "output_type": "execute_result"
    }
   ],
   "source": [
    "pokemon_df.iloc[pokemon_df[\"weight\"].idxmax()]"
   ]
  },
  {
   "cell_type": "code",
   "execution_count": 8,
   "metadata": {},
   "outputs": [
    {
     "data": {
      "text/html": [
       "<div>\n",
       "<style scoped>\n",
       "    .dataframe tbody tr th:only-of-type {\n",
       "        vertical-align: middle;\n",
       "    }\n",
       "\n",
       "    .dataframe tbody tr th {\n",
       "        vertical-align: top;\n",
       "    }\n",
       "\n",
       "    .dataframe thead th {\n",
       "        text-align: right;\n",
       "    }\n",
       "</style>\n",
       "<table border=\"1\" class=\"dataframe\">\n",
       "  <thead>\n",
       "    <tr style=\"text-align: right;\">\n",
       "      <th></th>\n",
       "      <th>id</th>\n",
       "      <th>name</th>\n",
       "      <th>height</th>\n",
       "      <th>weight</th>\n",
       "      <th>color</th>\n",
       "      <th>shape</th>\n",
       "      <th>is baby</th>\n",
       "      <th>type 1</th>\n",
       "      <th>type 2</th>\n",
       "      <th>hp</th>\n",
       "      <th>...</th>\n",
       "      <th>defense</th>\n",
       "      <th>sp. attack</th>\n",
       "      <th>sp. defense</th>\n",
       "      <th>speed</th>\n",
       "      <th>total</th>\n",
       "      <th>generation</th>\n",
       "      <th>evolves from</th>\n",
       "      <th>evolution group</th>\n",
       "      <th>fm gender ratio</th>\n",
       "      <th>has_gender_differences</th>\n",
       "    </tr>\n",
       "  </thead>\n",
       "  <tbody>\n",
       "    <tr>\n",
       "      <th>796</th>\n",
       "      <td>797</td>\n",
       "      <td>celesteela</td>\n",
       "      <td>9.2</td>\n",
       "      <td>999.9</td>\n",
       "      <td>green</td>\n",
       "      <td>humanoid</td>\n",
       "      <td>False</td>\n",
       "      <td>Steel</td>\n",
       "      <td>Flying</td>\n",
       "      <td>97</td>\n",
       "      <td>...</td>\n",
       "      <td>103</td>\n",
       "      <td>107</td>\n",
       "      <td>101</td>\n",
       "      <td>61</td>\n",
       "      <td>570</td>\n",
       "      <td>7</td>\n",
       "      <td>NaN</td>\n",
       "      <td>418</td>\n",
       "      <td>0:0</td>\n",
       "      <td>0</td>\n",
       "    </tr>\n",
       "    <tr>\n",
       "      <th>789</th>\n",
       "      <td>790</td>\n",
       "      <td>cosmoem</td>\n",
       "      <td>0.1</td>\n",
       "      <td>999.9</td>\n",
       "      <td>blue</td>\n",
       "      <td>ball</td>\n",
       "      <td>False</td>\n",
       "      <td>Psychic</td>\n",
       "      <td>NaN</td>\n",
       "      <td>43</td>\n",
       "      <td>...</td>\n",
       "      <td>131</td>\n",
       "      <td>29</td>\n",
       "      <td>131</td>\n",
       "      <td>37</td>\n",
       "      <td>400</td>\n",
       "      <td>7</td>\n",
       "      <td>789.0</td>\n",
       "      <td>413</td>\n",
       "      <td>0:0</td>\n",
       "      <td>0</td>\n",
       "    </tr>\n",
       "    <tr>\n",
       "      <th>382</th>\n",
       "      <td>383</td>\n",
       "      <td>groudon</td>\n",
       "      <td>3.5</td>\n",
       "      <td>950.0</td>\n",
       "      <td>red</td>\n",
       "      <td>upright</td>\n",
       "      <td>False</td>\n",
       "      <td>Ground</td>\n",
       "      <td>NaN</td>\n",
       "      <td>100</td>\n",
       "      <td>...</td>\n",
       "      <td>140</td>\n",
       "      <td>100</td>\n",
       "      <td>90</td>\n",
       "      <td>90</td>\n",
       "      <td>670</td>\n",
       "      <td>3</td>\n",
       "      <td>NaN</td>\n",
       "      <td>199</td>\n",
       "      <td>0:0</td>\n",
       "      <td>0</td>\n",
       "    </tr>\n",
       "    <tr>\n",
       "      <th>749</th>\n",
       "      <td>750</td>\n",
       "      <td>mudsdale</td>\n",
       "      <td>2.5</td>\n",
       "      <td>920.0</td>\n",
       "      <td>brown</td>\n",
       "      <td>quadruped</td>\n",
       "      <td>False</td>\n",
       "      <td>Ground</td>\n",
       "      <td>NaN</td>\n",
       "      <td>100</td>\n",
       "      <td>...</td>\n",
       "      <td>100</td>\n",
       "      <td>55</td>\n",
       "      <td>85</td>\n",
       "      <td>35</td>\n",
       "      <td>500</td>\n",
       "      <td>7</td>\n",
       "      <td>749.0</td>\n",
       "      <td>386</td>\n",
       "      <td>1:1</td>\n",
       "      <td>0</td>\n",
       "    </tr>\n",
       "    <tr>\n",
       "      <th>798</th>\n",
       "      <td>799</td>\n",
       "      <td>guzzlord</td>\n",
       "      <td>5.5</td>\n",
       "      <td>888.0</td>\n",
       "      <td>black</td>\n",
       "      <td>upright</td>\n",
       "      <td>False</td>\n",
       "      <td>Dark</td>\n",
       "      <td>Dragon</td>\n",
       "      <td>223</td>\n",
       "      <td>...</td>\n",
       "      <td>53</td>\n",
       "      <td>97</td>\n",
       "      <td>53</td>\n",
       "      <td>43</td>\n",
       "      <td>570</td>\n",
       "      <td>7</td>\n",
       "      <td>NaN</td>\n",
       "      <td>420</td>\n",
       "      <td>0:0</td>\n",
       "      <td>0</td>\n",
       "    </tr>\n",
       "  </tbody>\n",
       "</table>\n",
       "<p>5 rows × 21 columns</p>\n",
       "</div>"
      ],
      "text/plain": [
       "      id        name  height  weight  color      shape  is baby   type 1  \\\n",
       "796  797  celesteela     9.2   999.9  green   humanoid    False    Steel   \n",
       "789  790     cosmoem     0.1   999.9   blue       ball    False  Psychic   \n",
       "382  383     groudon     3.5   950.0    red    upright    False   Ground   \n",
       "749  750    mudsdale     2.5   920.0  brown  quadruped    False   Ground   \n",
       "798  799    guzzlord     5.5   888.0  black    upright    False     Dark   \n",
       "\n",
       "     type 2   hp          ...            defense  sp. attack  sp. defense  \\\n",
       "796  Flying   97          ...                103         107          101   \n",
       "789     NaN   43          ...                131          29          131   \n",
       "382     NaN  100          ...                140         100           90   \n",
       "749     NaN  100          ...                100          55           85   \n",
       "798  Dragon  223          ...                 53          97           53   \n",
       "\n",
       "     speed  total  generation  evolves from  evolution group  fm gender ratio  \\\n",
       "796     61    570           7           NaN              418              0:0   \n",
       "789     37    400           7         789.0              413              0:0   \n",
       "382     90    670           3           NaN              199              0:0   \n",
       "749     35    500           7         749.0              386              1:1   \n",
       "798     43    570           7           NaN              420              0:0   \n",
       "\n",
       "    has_gender_differences  \n",
       "796                      0  \n",
       "789                      0  \n",
       "382                      0  \n",
       "749                      0  \n",
       "798                      0  \n",
       "\n",
       "[5 rows x 21 columns]"
      ]
     },
     "execution_count": 8,
     "metadata": {},
     "output_type": "execute_result"
    }
   ],
   "source": [
    "pokemon_df.sort_values(by=\"weight\", ascending=False).head()"
   ]
  },
  {
   "cell_type": "code",
   "execution_count": 9,
   "metadata": {},
   "outputs": [
    {
     "data": {
      "text/plain": [
       "61.771127633209424"
      ]
     },
     "execution_count": 9,
     "metadata": {},
     "output_type": "execute_result"
    }
   ],
   "source": [
    "pokemon_df[\"weight\"].mean()"
   ]
  },
  {
   "cell_type": "code",
   "execution_count": 10,
   "metadata": {},
   "outputs": [
    {
     "data": {
      "text/plain": [
       "27.0"
      ]
     },
     "execution_count": 10,
     "metadata": {},
     "output_type": "execute_result"
    }
   ],
   "source": [
    "pokemon_df[\"weight\"].median()"
   ]
  },
  {
   "cell_type": "code",
   "execution_count": 11,
   "metadata": {},
   "outputs": [
    {
     "data": {
      "text/plain": [
       "0    5.0\n",
       "dtype: float64"
      ]
     },
     "execution_count": 11,
     "metadata": {},
     "output_type": "execute_result"
    }
   ],
   "source": [
    "pokemon_df[\"weight\"].mode()"
   ]
  },
  {
   "cell_type": "markdown",
   "metadata": {},
   "source": [
    "## Statistické testy"
   ]
  },
  {
   "cell_type": "code",
   "execution_count": 12,
   "metadata": {},
   "outputs": [],
   "source": [
    "import scipy.stats as st"
   ]
  },
  {
   "cell_type": "code",
   "execution_count": 17,
   "metadata": {},
   "outputs": [],
   "source": [
    "# Import visualization tools\n",
    "import matplotlib.pyplot as plt\n",
    "import matplotlib as mpl\n",
    "import seaborn as sns\n",
    "%matplotlib inline\n",
    "mpl.rcParams['figure.dpi'] = 100 # bigger figures, yayy!"
   ]
  },
  {
   "cell_type": "markdown",
   "metadata": {},
   "source": [
    "Test normality"
   ]
  },
  {
   "cell_type": "code",
   "execution_count": 18,
   "metadata": {},
   "outputs": [
    {
     "data": {
      "text/plain": [
       "NormaltestResult(statistic=820.8751735153749, pvalue=5.6133342769384294e-179)"
      ]
     },
     "execution_count": 18,
     "metadata": {},
     "output_type": "execute_result"
    }
   ],
   "source": [
    "st.normaltest(pokemon_df[\"weight\"])"
   ]
  },
  {
   "cell_type": "code",
   "execution_count": 19,
   "metadata": {},
   "outputs": [
    {
     "data": {
      "text/plain": [
       "<matplotlib.axes._subplots.AxesSubplot at 0xae2f9b0>"
      ]
     },
     "execution_count": 19,
     "metadata": {},
     "output_type": "execute_result"
    },
    {
     "data": {
      "image/png": "[encoded data removed]",
      "text/plain": [
       "<Figure size 600x400 with 1 Axes>"
      ]
     },
     "metadata": {},
     "output_type": "display_data"
    }
   ],
   "source": [
    "sns.distplot(pokemon_df[\"weight\"], fit=st.norm)"
   ]
  },
  {
   "cell_type": "code",
   "execution_count": 20,
   "metadata": {},
   "outputs": [
    {
     "data": {
      "text/plain": [
       "<matplotlib.axes._subplots.AxesSubplot at 0x529d470>"
      ]
     },
     "execution_count": 20,
     "metadata": {},
     "output_type": "execute_result"
    },
    {
     "data": {
      "image/png": "[encoded data removed]",
      "text/plain": [
       "<Figure size 600x400 with 1 Axes>"
      ]
     },
     "metadata": {},
     "output_type": "display_data"
    }
   ],
   "source": [
    "sns.regplot(x=\"speed\", y=\"total\", data=pokemon_df)"
   ]
  },
  {
   "cell_type": "code",
   "execution_count": null,
   "metadata": {},
   "outputs": [],
   "source": []
  }
 ],
 "metadata": {
  "kernelspec": {
   "display_name": "Python 3",
   "language": "python",
   "name": "python3"
  },
  "language_info": {
   "codemirror_mode": {
    "name": "ipython",
    "version": 3
   },
   "file_extension": ".py",
   "mimetype": "text/x-python",
   "name": "python",
   "nbconvert_exporter": "python",
   "pygments_lexer": "ipython3",
   "version": "3.7.0"
  }
 },
 "nbformat": 4,
 "nbformat_minor": 2
}
